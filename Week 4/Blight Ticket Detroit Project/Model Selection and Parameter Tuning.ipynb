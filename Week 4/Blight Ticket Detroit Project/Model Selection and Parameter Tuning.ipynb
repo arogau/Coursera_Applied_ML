{
 "cells": [
  {
   "cell_type": "markdown",
   "metadata": {},
   "source": [
    "---\n",
    "\n",
    "_You are currently looking at **version 1.0** of this notebook. To download notebooks and datafiles, as well as get help on Jupyter notebooks in the Coursera platform, visit the [Jupyter Notebook FAQ](https://www.coursera.org/learn/python-machine-learning/resources/bANLa) course resource._\n",
    "\n",
    "---"
   ]
  },
  {
   "cell_type": "markdown",
   "metadata": {},
   "source": [
    "## Assignment 4 - Understanding and Predicting Property Maintenance Fines\n",
    "\n",
    "This assignment is based on a data challenge from the Michigan Data Science Team ([MDST](http://midas.umich.edu/mdst/)). \n",
    "\n",
    "The Michigan Data Science Team ([MDST](http://midas.umich.edu/mdst/)) and the Michigan Student Symposium for Interdisciplinary Statistical Sciences ([MSSISS](https://sites.lsa.umich.edu/mssiss/)) have partnered with the City of Detroit to help solve one of the most pressing problems facing Detroit - blight. [Blight violations](http://www.detroitmi.gov/How-Do-I/Report/Blight-Complaint-FAQs) are issued by the city to individuals who allow their properties to remain in a deteriorated condition. Every year, the city of Detroit issues millions of dollars in fines to residents and every year, many of these fines remain unpaid. Enforcing unpaid blight fines is a costly and tedious process, so the city wants to know: how can we increase blight ticket compliance?\n",
    "\n",
    "The first step in answering this question is understanding when and why a resident might fail to comply with a blight ticket. This is where predictive modeling comes in. For this assignment, your task is to predict whether a given blight ticket will be paid on time.\n",
    "\n",
    "All data for this assignment has been provided to us through the [Detroit Open Data Portal](https://data.detroitmi.gov/). **Only the data already included in your Coursera directory can be used for training the model for this assignment.** Nonetheless, we encourage you to look into data from other Detroit datasets to help inform feature creation and model selection. We recommend taking a look at the following related datasets:\n",
    "\n",
    "* [Building Permits](https://data.detroitmi.gov/Property-Parcels/Building-Permits/xw2a-a7tf)\n",
    "* [Trades Permits](https://data.detroitmi.gov/Property-Parcels/Trades-Permits/635b-dsgv)\n",
    "* [Improve Detroit: Submitted Issues](https://data.detroitmi.gov/Government/Improve-Detroit-Submitted-Issues/fwz3-w3yn)\n",
    "* [DPD: Citizen Complaints](https://data.detroitmi.gov/Public-Safety/DPD-Citizen-Complaints-2016/kahe-efs3)\n",
    "* [Parcel Map](https://data.detroitmi.gov/Property-Parcels/Parcel-Map/fxkw-udwf)\n",
    "\n",
    "___\n",
    "\n",
    "We provide you with two data files for use in training and validating your models: train.csv and test.csv. Each row in these two files corresponds to a single blight ticket, and includes information about when, why, and to whom each ticket was issued. The target variable is compliance, which is True if the ticket was paid early, on time, or within one month of the hearing data, False if the ticket was paid after the hearing date or not at all, and Null if the violator was found not responsible. Compliance, as well as a handful of other variables that will not be available at test-time, are only included in train.csv.\n",
    "\n",
    "Note: All tickets where the violators were found not responsible are not considered during evaluation. They are included in the training set as an additional source of data for visualization, and to enable unsupervised and semi-supervised approaches. However, they are not included in the test set.\n",
    "\n",
    "<br>\n",
    "\n",
    "**File descriptions** (Use only this data for training your model!)\n",
    "\n",
    "    train.csv - the training set (all tickets issued 2004-2011)\n",
    "    test.csv - the test set (all tickets issued 2012-2016)\n",
    "    addresses.csv & latlons.csv - mapping from ticket id to addresses, and from addresses to lat/lon coordinates. \n",
    "     Note: misspelled addresses may be incorrectly geolocated.\n",
    "\n",
    "<br>\n",
    "\n",
    "**Data fields**\n",
    "\n",
    "train.csv & test.csv\n",
    "\n",
    "    ticket_id - unique identifier for tickets\n",
    "    agency_name - Agency that issued the ticket\n",
    "    inspector_name - Name of inspector that issued the ticket\n",
    "    violator_name - Name of the person/organization that the ticket was issued to\n",
    "    violation_street_number, violation_street_name, violation_zip_code - Address where the violation occurred\n",
    "    mailing_address_str_number, mailing_address_str_name, city, state, zip_code, non_us_str_code, country - Mailing address of the violator\n",
    "    ticket_issued_date - Date and time the ticket was issued\n",
    "    hearing_date - Date and time the violator's hearing was scheduled\n",
    "    violation_code, violation_description - Type of violation\n",
    "    disposition - Judgment and judgement type\n",
    "    fine_amount - Violation fine amount, excluding fees\n",
    "    admin_fee - $20 fee assigned to responsible judgments\n",
    "state_fee - $10 fee assigned to responsible judgments\n",
    "    late_fee - 10% fee assigned to responsible judgments\n",
    "    discount_amount - discount applied, if any\n",
    "    clean_up_cost - DPW clean-up or graffiti removal cost\n",
    "    judgment_amount - Sum of all fines and fees\n",
    "    grafitti_status - Flag for graffiti violations\n",
    "    \n",
    "train.csv only\n",
    "\n",
    "    payment_amount - Amount paid, if any\n",
    "    payment_date - Date payment was made, if it was received\n",
    "    payment_status - Current payment status as of Feb 1 2017\n",
    "    balance_due - Fines and fees still owed\n",
    "    collection_status - Flag for payments in collections\n",
    "    compliance [target variable for prediction] \n",
    "     Null = Not responsible\n",
    "     0 = Responsible, non-compliant\n",
    "     1 = Responsible, compliant\n",
    "    compliance_detail - More information on why each ticket was marked compliant or non-compliant\n",
    "\n",
    "\n",
    "___\n",
    "\n",
    "## Evaluation\n",
    "\n",
    "Your predictions will be given as the probability that the corresponding blight ticket will be paid on time.\n",
    "\n",
    "The evaluation metric for this assignment is the Area Under the ROC Curve (AUC). \n",
    "\n",
    "Your grade will be based on the AUC score computed for your classifier. A model which with an AUROC of 0.7 passes this assignment, over 0.75 will recieve full points.\n",
    "___\n",
    "\n",
    "For this assignment, create a function that trains a model to predict blight ticket compliance in Detroit using `train.csv`. Using this model, return a series of length 61001 with the data being the probability that each corresponding ticket from `test.csv` will be paid, and the index being the ticket_id.\n",
    "\n",
    "Example:\n",
    "\n",
    "    ticket_id\n",
    "       284932    0.531842\n",
    "       285362    0.401958\n",
    "       285361    0.105928\n",
    "       285338    0.018572\n",
    "                 ...\n",
    "       376499    0.208567\n",
    "       376500    0.818759\n",
    "       369851    0.018528\n",
    "       Name: compliance, dtype: float32"
   ]
  },
  {
   "cell_type": "code",
   "execution_count": 1,
   "metadata": {
    "collapsed": true
   },
   "outputs": [],
   "source": [
    "import pandas as pd\n",
    "import numpy as np\n",
    "import matplotlib.pyplot as plt\n",
    "import seaborn as sns\n",
    "from sklearn import metrics\n",
    "%matplotlib inline"
   ]
  },
  {
   "cell_type": "code",
   "execution_count": 2,
   "metadata": {
    "collapsed": false
   },
   "outputs": [
    {
     "name": "stderr",
     "output_type": "stream",
     "text": [
      "/opt/conda/lib/python3.5/site-packages/IPython/core/interactiveshell.py:2717: DtypeWarning: Columns (11,12,31) have mixed types. Specify dtype option on import or set low_memory=False.\n",
      "  interactivity=interactivity, compiler=compiler, result=result)\n"
     ]
    },
    {
     "data": {
      "text/html": [
       "<div>\n",
       "<table border=\"1\" class=\"dataframe\">\n",
       "  <thead>\n",
       "    <tr style=\"text-align: right;\">\n",
       "      <th></th>\n",
       "      <th>ticket_id</th>\n",
       "      <th>agency_name</th>\n",
       "      <th>inspector_name</th>\n",
       "      <th>violator_name</th>\n",
       "      <th>violation_street_number</th>\n",
       "      <th>violation_street_name</th>\n",
       "      <th>violation_zip_code</th>\n",
       "      <th>mailing_address_str_number</th>\n",
       "      <th>mailing_address_str_name</th>\n",
       "      <th>city</th>\n",
       "      <th>...</th>\n",
       "      <th>clean_up_cost</th>\n",
       "      <th>judgment_amount</th>\n",
       "      <th>payment_amount</th>\n",
       "      <th>balance_due</th>\n",
       "      <th>payment_date</th>\n",
       "      <th>payment_status</th>\n",
       "      <th>collection_status</th>\n",
       "      <th>grafitti_status</th>\n",
       "      <th>compliance_detail</th>\n",
       "      <th>compliance</th>\n",
       "    </tr>\n",
       "  </thead>\n",
       "  <tbody>\n",
       "    <tr>\n",
       "      <th>0</th>\n",
       "      <td>22056</td>\n",
       "      <td>Buildings, Safety Engineering &amp; Env Department</td>\n",
       "      <td>Sims, Martinzie</td>\n",
       "      <td>INVESTMENT INC., MIDWEST MORTGAGE</td>\n",
       "      <td>2900.0</td>\n",
       "      <td>TYLER</td>\n",
       "      <td>NaN</td>\n",
       "      <td>3.0</td>\n",
       "      <td>S. WICKER</td>\n",
       "      <td>CHICAGO</td>\n",
       "      <td>...</td>\n",
       "      <td>0.0</td>\n",
       "      <td>305.0</td>\n",
       "      <td>0.0</td>\n",
       "      <td>305.0</td>\n",
       "      <td>NaN</td>\n",
       "      <td>NO PAYMENT APPLIED</td>\n",
       "      <td>NaN</td>\n",
       "      <td>NaN</td>\n",
       "      <td>non-compliant by no payment</td>\n",
       "      <td>0.0</td>\n",
       "    </tr>\n",
       "    <tr>\n",
       "      <th>1</th>\n",
       "      <td>27586</td>\n",
       "      <td>Buildings, Safety Engineering &amp; Env Department</td>\n",
       "      <td>Williams, Darrin</td>\n",
       "      <td>Michigan, Covenant House</td>\n",
       "      <td>4311.0</td>\n",
       "      <td>CENTRAL</td>\n",
       "      <td>NaN</td>\n",
       "      <td>2959.0</td>\n",
       "      <td>Martin Luther King</td>\n",
       "      <td>Detroit</td>\n",
       "      <td>...</td>\n",
       "      <td>0.0</td>\n",
       "      <td>855.0</td>\n",
       "      <td>780.0</td>\n",
       "      <td>75.0</td>\n",
       "      <td>2005-06-02 00:00:00</td>\n",
       "      <td>PAID IN FULL</td>\n",
       "      <td>NaN</td>\n",
       "      <td>NaN</td>\n",
       "      <td>compliant by late payment within 1 month</td>\n",
       "      <td>1.0</td>\n",
       "    </tr>\n",
       "    <tr>\n",
       "      <th>2</th>\n",
       "      <td>22062</td>\n",
       "      <td>Buildings, Safety Engineering &amp; Env Department</td>\n",
       "      <td>Sims, Martinzie</td>\n",
       "      <td>SANDERS, DERRON</td>\n",
       "      <td>1449.0</td>\n",
       "      <td>LONGFELLOW</td>\n",
       "      <td>NaN</td>\n",
       "      <td>23658.0</td>\n",
       "      <td>P.O. BOX</td>\n",
       "      <td>DETROIT</td>\n",
       "      <td>...</td>\n",
       "      <td>0.0</td>\n",
       "      <td>0.0</td>\n",
       "      <td>0.0</td>\n",
       "      <td>0.0</td>\n",
       "      <td>NaN</td>\n",
       "      <td>NO PAYMENT APPLIED</td>\n",
       "      <td>NaN</td>\n",
       "      <td>NaN</td>\n",
       "      <td>not responsible by disposition</td>\n",
       "      <td>NaN</td>\n",
       "    </tr>\n",
       "    <tr>\n",
       "      <th>3</th>\n",
       "      <td>22084</td>\n",
       "      <td>Buildings, Safety Engineering &amp; Env Department</td>\n",
       "      <td>Sims, Martinzie</td>\n",
       "      <td>MOROSI, MIKE</td>\n",
       "      <td>1441.0</td>\n",
       "      <td>LONGFELLOW</td>\n",
       "      <td>NaN</td>\n",
       "      <td>5.0</td>\n",
       "      <td>ST. CLAIR</td>\n",
       "      <td>DETROIT</td>\n",
       "      <td>...</td>\n",
       "      <td>0.0</td>\n",
       "      <td>0.0</td>\n",
       "      <td>0.0</td>\n",
       "      <td>0.0</td>\n",
       "      <td>NaN</td>\n",
       "      <td>NO PAYMENT APPLIED</td>\n",
       "      <td>NaN</td>\n",
       "      <td>NaN</td>\n",
       "      <td>not responsible by disposition</td>\n",
       "      <td>NaN</td>\n",
       "    </tr>\n",
       "    <tr>\n",
       "      <th>4</th>\n",
       "      <td>22093</td>\n",
       "      <td>Buildings, Safety Engineering &amp; Env Department</td>\n",
       "      <td>Sims, Martinzie</td>\n",
       "      <td>NATHANIEL, NEAL</td>\n",
       "      <td>2449.0</td>\n",
       "      <td>CHURCHILL</td>\n",
       "      <td>NaN</td>\n",
       "      <td>7449.0</td>\n",
       "      <td>CHURCHILL</td>\n",
       "      <td>DETROIT</td>\n",
       "      <td>...</td>\n",
       "      <td>0.0</td>\n",
       "      <td>0.0</td>\n",
       "      <td>0.0</td>\n",
       "      <td>0.0</td>\n",
       "      <td>NaN</td>\n",
       "      <td>NO PAYMENT APPLIED</td>\n",
       "      <td>NaN</td>\n",
       "      <td>NaN</td>\n",
       "      <td>not responsible by disposition</td>\n",
       "      <td>NaN</td>\n",
       "    </tr>\n",
       "  </tbody>\n",
       "</table>\n",
       "<p>5 rows × 34 columns</p>\n",
       "</div>"
      ],
      "text/plain": [
       "   ticket_id                                     agency_name  \\\n",
       "0      22056  Buildings, Safety Engineering & Env Department   \n",
       "1      27586  Buildings, Safety Engineering & Env Department   \n",
       "2      22062  Buildings, Safety Engineering & Env Department   \n",
       "3      22084  Buildings, Safety Engineering & Env Department   \n",
       "4      22093  Buildings, Safety Engineering & Env Department   \n",
       "\n",
       "     inspector_name                      violator_name  \\\n",
       "0   Sims, Martinzie  INVESTMENT INC., MIDWEST MORTGAGE   \n",
       "1  Williams, Darrin           Michigan, Covenant House   \n",
       "2   Sims, Martinzie                    SANDERS, DERRON   \n",
       "3   Sims, Martinzie                       MOROSI, MIKE   \n",
       "4   Sims, Martinzie                    NATHANIEL, NEAL   \n",
       "\n",
       "   violation_street_number violation_street_name  violation_zip_code  \\\n",
       "0                   2900.0                 TYLER                 NaN   \n",
       "1                   4311.0               CENTRAL                 NaN   \n",
       "2                   1449.0            LONGFELLOW                 NaN   \n",
       "3                   1441.0            LONGFELLOW                 NaN   \n",
       "4                   2449.0             CHURCHILL                 NaN   \n",
       "\n",
       "   mailing_address_str_number mailing_address_str_name     city     ...      \\\n",
       "0                         3.0                S. WICKER  CHICAGO     ...       \n",
       "1                      2959.0       Martin Luther King  Detroit     ...       \n",
       "2                     23658.0                 P.O. BOX  DETROIT     ...       \n",
       "3                         5.0                ST. CLAIR  DETROIT     ...       \n",
       "4                      7449.0                CHURCHILL  DETROIT     ...       \n",
       "\n",
       "  clean_up_cost judgment_amount payment_amount balance_due  \\\n",
       "0           0.0           305.0            0.0       305.0   \n",
       "1           0.0           855.0          780.0        75.0   \n",
       "2           0.0             0.0            0.0         0.0   \n",
       "3           0.0             0.0            0.0         0.0   \n",
       "4           0.0             0.0            0.0         0.0   \n",
       "\n",
       "          payment_date      payment_status collection_status grafitti_status  \\\n",
       "0                  NaN  NO PAYMENT APPLIED               NaN             NaN   \n",
       "1  2005-06-02 00:00:00        PAID IN FULL               NaN             NaN   \n",
       "2                  NaN  NO PAYMENT APPLIED               NaN             NaN   \n",
       "3                  NaN  NO PAYMENT APPLIED               NaN             NaN   \n",
       "4                  NaN  NO PAYMENT APPLIED               NaN             NaN   \n",
       "\n",
       "                          compliance_detail  compliance  \n",
       "0               non-compliant by no payment         0.0  \n",
       "1  compliant by late payment within 1 month         1.0  \n",
       "2            not responsible by disposition         NaN  \n",
       "3            not responsible by disposition         NaN  \n",
       "4            not responsible by disposition         NaN  \n",
       "\n",
       "[5 rows x 34 columns]"
      ]
     },
     "execution_count": 2,
     "metadata": {},
     "output_type": "execute_result"
    }
   ],
   "source": [
    "train = pd.read_csv(\"train.csv\", engine=\"c\", sep=',', encoding='ISO-8859-1')\n",
    "train.head()"
   ]
  },
  {
   "cell_type": "code",
   "execution_count": 3,
   "metadata": {
    "collapsed": false
   },
   "outputs": [],
   "source": [
    "train = train[train['compliance']<=1]"
   ]
  },
  {
   "cell_type": "code",
   "execution_count": 4,
   "metadata": {
    "collapsed": false
   },
   "outputs": [
    {
     "data": {
      "text/html": [
       "<div>\n",
       "<table border=\"1\" class=\"dataframe\">\n",
       "  <thead>\n",
       "    <tr style=\"text-align: right;\">\n",
       "      <th></th>\n",
       "      <th>ticket_id</th>\n",
       "      <th>agency_name</th>\n",
       "      <th>inspector_name</th>\n",
       "      <th>violator_name</th>\n",
       "      <th>violation_street_number</th>\n",
       "      <th>violation_street_name</th>\n",
       "      <th>violation_zip_code</th>\n",
       "      <th>mailing_address_str_number</th>\n",
       "      <th>mailing_address_str_name</th>\n",
       "      <th>city</th>\n",
       "      <th>...</th>\n",
       "      <th>violation_description</th>\n",
       "      <th>disposition</th>\n",
       "      <th>fine_amount</th>\n",
       "      <th>admin_fee</th>\n",
       "      <th>state_fee</th>\n",
       "      <th>late_fee</th>\n",
       "      <th>discount_amount</th>\n",
       "      <th>clean_up_cost</th>\n",
       "      <th>judgment_amount</th>\n",
       "      <th>grafitti_status</th>\n",
       "    </tr>\n",
       "  </thead>\n",
       "  <tbody>\n",
       "    <tr>\n",
       "      <th>0</th>\n",
       "      <td>284932</td>\n",
       "      <td>Department of Public Works</td>\n",
       "      <td>Granberry, Aisha B</td>\n",
       "      <td>FLUELLEN, JOHN A</td>\n",
       "      <td>10041.0</td>\n",
       "      <td>ROSEBERRY</td>\n",
       "      <td>NaN</td>\n",
       "      <td>141</td>\n",
       "      <td>ROSEBERRY</td>\n",
       "      <td>DETROIT</td>\n",
       "      <td>...</td>\n",
       "      <td>Failure to secure City or Private solid waste ...</td>\n",
       "      <td>Responsible by Default</td>\n",
       "      <td>200.0</td>\n",
       "      <td>20.0</td>\n",
       "      <td>10.0</td>\n",
       "      <td>20.0</td>\n",
       "      <td>0.0</td>\n",
       "      <td>0.0</td>\n",
       "      <td>250.0</td>\n",
       "      <td>NaN</td>\n",
       "    </tr>\n",
       "    <tr>\n",
       "      <th>1</th>\n",
       "      <td>285362</td>\n",
       "      <td>Department of Public Works</td>\n",
       "      <td>Lusk, Gertrina</td>\n",
       "      <td>WHIGHAM, THELMA</td>\n",
       "      <td>18520.0</td>\n",
       "      <td>EVERGREEN</td>\n",
       "      <td>NaN</td>\n",
       "      <td>19136</td>\n",
       "      <td>GLASTONBURY</td>\n",
       "      <td>DETROIT</td>\n",
       "      <td>...</td>\n",
       "      <td>Allowing bulk solid waste to lie or accumulate...</td>\n",
       "      <td>Responsible by Default</td>\n",
       "      <td>1000.0</td>\n",
       "      <td>20.0</td>\n",
       "      <td>10.0</td>\n",
       "      <td>100.0</td>\n",
       "      <td>0.0</td>\n",
       "      <td>0.0</td>\n",
       "      <td>1130.0</td>\n",
       "      <td>NaN</td>\n",
       "    </tr>\n",
       "    <tr>\n",
       "      <th>2</th>\n",
       "      <td>285361</td>\n",
       "      <td>Department of Public Works</td>\n",
       "      <td>Lusk, Gertrina</td>\n",
       "      <td>WHIGHAM, THELMA</td>\n",
       "      <td>18520.0</td>\n",
       "      <td>EVERGREEN</td>\n",
       "      <td>NaN</td>\n",
       "      <td>19136</td>\n",
       "      <td>GLASTONBURY</td>\n",
       "      <td>DETROIT</td>\n",
       "      <td>...</td>\n",
       "      <td>Improper placement of Courville container betw...</td>\n",
       "      <td>Responsible by Default</td>\n",
       "      <td>100.0</td>\n",
       "      <td>20.0</td>\n",
       "      <td>10.0</td>\n",
       "      <td>10.0</td>\n",
       "      <td>0.0</td>\n",
       "      <td>0.0</td>\n",
       "      <td>140.0</td>\n",
       "      <td>NaN</td>\n",
       "    </tr>\n",
       "    <tr>\n",
       "      <th>3</th>\n",
       "      <td>285338</td>\n",
       "      <td>Department of Public Works</td>\n",
       "      <td>Talbert, Reginald</td>\n",
       "      <td>HARABEDIEN, POPKIN</td>\n",
       "      <td>1835.0</td>\n",
       "      <td>CENTRAL</td>\n",
       "      <td>NaN</td>\n",
       "      <td>2246</td>\n",
       "      <td>NELSON</td>\n",
       "      <td>WOODHAVEN</td>\n",
       "      <td>...</td>\n",
       "      <td>Allowing bulk solid waste to lie or accumulate...</td>\n",
       "      <td>Responsible by Default</td>\n",
       "      <td>200.0</td>\n",
       "      <td>20.0</td>\n",
       "      <td>10.0</td>\n",
       "      <td>20.0</td>\n",
       "      <td>0.0</td>\n",
       "      <td>0.0</td>\n",
       "      <td>250.0</td>\n",
       "      <td>NaN</td>\n",
       "    </tr>\n",
       "    <tr>\n",
       "      <th>4</th>\n",
       "      <td>285346</td>\n",
       "      <td>Department of Public Works</td>\n",
       "      <td>Talbert, Reginald</td>\n",
       "      <td>CORBELL, STANLEY</td>\n",
       "      <td>1700.0</td>\n",
       "      <td>CENTRAL</td>\n",
       "      <td>NaN</td>\n",
       "      <td>3435</td>\n",
       "      <td>MUNGER</td>\n",
       "      <td>LIVONIA</td>\n",
       "      <td>...</td>\n",
       "      <td>Violation of time limit for approved container...</td>\n",
       "      <td>Responsible by Default</td>\n",
       "      <td>100.0</td>\n",
       "      <td>20.0</td>\n",
       "      <td>10.0</td>\n",
       "      <td>10.0</td>\n",
       "      <td>0.0</td>\n",
       "      <td>0.0</td>\n",
       "      <td>140.0</td>\n",
       "      <td>NaN</td>\n",
       "    </tr>\n",
       "  </tbody>\n",
       "</table>\n",
       "<p>5 rows × 27 columns</p>\n",
       "</div>"
      ],
      "text/plain": [
       "   ticket_id                 agency_name      inspector_name  \\\n",
       "0     284932  Department of Public Works  Granberry, Aisha B   \n",
       "1     285362  Department of Public Works      Lusk, Gertrina   \n",
       "2     285361  Department of Public Works      Lusk, Gertrina   \n",
       "3     285338  Department of Public Works   Talbert, Reginald   \n",
       "4     285346  Department of Public Works   Talbert, Reginald   \n",
       "\n",
       "        violator_name  violation_street_number violation_street_name  \\\n",
       "0    FLUELLEN, JOHN A                  10041.0             ROSEBERRY   \n",
       "1     WHIGHAM, THELMA                  18520.0             EVERGREEN   \n",
       "2     WHIGHAM, THELMA                  18520.0             EVERGREEN   \n",
       "3  HARABEDIEN, POPKIN                   1835.0               CENTRAL   \n",
       "4    CORBELL, STANLEY                   1700.0               CENTRAL   \n",
       "\n",
       "  violation_zip_code mailing_address_str_number mailing_address_str_name  \\\n",
       "0                NaN                        141                ROSEBERRY   \n",
       "1                NaN                      19136              GLASTONBURY   \n",
       "2                NaN                      19136              GLASTONBURY   \n",
       "3                NaN                       2246                   NELSON   \n",
       "4                NaN                       3435                   MUNGER   \n",
       "\n",
       "        city       ...         \\\n",
       "0    DETROIT       ...          \n",
       "1    DETROIT       ...          \n",
       "2    DETROIT       ...          \n",
       "3  WOODHAVEN       ...          \n",
       "4    LIVONIA       ...          \n",
       "\n",
       "                               violation_description             disposition  \\\n",
       "0  Failure to secure City or Private solid waste ...  Responsible by Default   \n",
       "1  Allowing bulk solid waste to lie or accumulate...  Responsible by Default   \n",
       "2  Improper placement of Courville container betw...  Responsible by Default   \n",
       "3  Allowing bulk solid waste to lie or accumulate...  Responsible by Default   \n",
       "4  Violation of time limit for approved container...  Responsible by Default   \n",
       "\n",
       "   fine_amount admin_fee state_fee late_fee discount_amount clean_up_cost  \\\n",
       "0        200.0      20.0      10.0     20.0             0.0           0.0   \n",
       "1       1000.0      20.0      10.0    100.0             0.0           0.0   \n",
       "2        100.0      20.0      10.0     10.0             0.0           0.0   \n",
       "3        200.0      20.0      10.0     20.0             0.0           0.0   \n",
       "4        100.0      20.0      10.0     10.0             0.0           0.0   \n",
       "\n",
       "  judgment_amount  grafitti_status  \n",
       "0           250.0              NaN  \n",
       "1          1130.0              NaN  \n",
       "2           140.0              NaN  \n",
       "3           250.0              NaN  \n",
       "4           140.0              NaN  \n",
       "\n",
       "[5 rows x 27 columns]"
      ]
     },
     "execution_count": 4,
     "metadata": {},
     "output_type": "execute_result"
    }
   ],
   "source": [
    "test = pd.read_csv(\"test.csv\", engine=\"c\", sep=',', encoding='ISO-8859-1')\n",
    "test.head()"
   ]
  },
  {
   "cell_type": "code",
   "execution_count": 5,
   "metadata": {
    "collapsed": false
   },
   "outputs": [
    {
     "name": "stdout",
     "output_type": "stream",
     "text": [
      "<class 'pandas.core.frame.DataFrame'>\n",
      "Int64Index: 159880 entries, 0 to 250293\n",
      "Data columns (total 34 columns):\n",
      "ticket_id                     159880 non-null int64\n",
      "agency_name                   159880 non-null object\n",
      "inspector_name                159880 non-null object\n",
      "violator_name                 159854 non-null object\n",
      "violation_street_number       159880 non-null float64\n",
      "violation_street_name         159880 non-null object\n",
      "violation_zip_code            0 non-null float64\n",
      "mailing_address_str_number    157322 non-null float64\n",
      "mailing_address_str_name      159877 non-null object\n",
      "city                          159880 non-null object\n",
      "state                         159796 non-null object\n",
      "zip_code                      159879 non-null object\n",
      "non_us_str_code               3 non-null object\n",
      "country                       159880 non-null object\n",
      "ticket_issued_date            159880 non-null object\n",
      "hearing_date                  159653 non-null object\n",
      "violation_code                159880 non-null object\n",
      "violation_description         159880 non-null object\n",
      "disposition                   159880 non-null object\n",
      "fine_amount                   159880 non-null float64\n",
      "admin_fee                     159880 non-null float64\n",
      "state_fee                     159880 non-null float64\n",
      "late_fee                      159880 non-null float64\n",
      "discount_amount               159880 non-null float64\n",
      "clean_up_cost                 159880 non-null float64\n",
      "judgment_amount               159880 non-null float64\n",
      "payment_amount                159880 non-null float64\n",
      "balance_due                   159880 non-null float64\n",
      "payment_date                  39611 non-null object\n",
      "payment_status                159880 non-null object\n",
      "collection_status             36897 non-null object\n",
      "grafitti_status               0 non-null object\n",
      "compliance_detail             159880 non-null object\n",
      "compliance                    159880 non-null float64\n",
      "dtypes: float64(13), int64(1), object(20)\n",
      "memory usage: 42.7+ MB\n"
     ]
    }
   ],
   "source": [
    "train.info()"
   ]
  },
  {
   "cell_type": "code",
   "execution_count": 6,
   "metadata": {
    "collapsed": false
   },
   "outputs": [],
   "source": [
    "train['ticket_issued_date'] = pd.to_datetime(train['ticket_issued_date'])\n",
    "train['hearing_date'] = pd.to_datetime(train['hearing_date'])"
   ]
  },
  {
   "cell_type": "code",
   "execution_count": 7,
   "metadata": {
    "collapsed": true
   },
   "outputs": [],
   "source": [
    "test['ticket_issued_date'] = pd.to_datetime(test['ticket_issued_date'])\n",
    "test['hearing_date'] = pd.to_datetime(test['hearing_date'])"
   ]
  },
  {
   "cell_type": "code",
   "execution_count": 8,
   "metadata": {
    "collapsed": false
   },
   "outputs": [
    {
     "name": "stdout",
     "output_type": "stream",
     "text": [
      "train df is from:  1988-05-06 20:00:00  to  2011-12-30 14:20:00\n"
     ]
    }
   ],
   "source": [
    "print(\"train df is from: \", train['ticket_issued_date'].min(),\" to \", train['ticket_issued_date'].max())"
   ]
  },
  {
   "cell_type": "code",
   "execution_count": 9,
   "metadata": {
    "collapsed": false
   },
   "outputs": [],
   "source": [
    "train = train[train['ticket_issued_date']>='2004-01-01']"
   ]
  },
  {
   "cell_type": "code",
   "execution_count": 10,
   "metadata": {
    "collapsed": false
   },
   "outputs": [
    {
     "data": {
      "text/html": [
       "<div>\n",
       "<table border=\"1\" class=\"dataframe\">\n",
       "  <thead>\n",
       "    <tr style=\"text-align: right;\">\n",
       "      <th></th>\n",
       "      <th>ticket_id</th>\n",
       "      <th>violation_street_number</th>\n",
       "      <th>violation_zip_code</th>\n",
       "      <th>mailing_address_str_number</th>\n",
       "      <th>fine_amount</th>\n",
       "      <th>admin_fee</th>\n",
       "      <th>state_fee</th>\n",
       "      <th>late_fee</th>\n",
       "      <th>discount_amount</th>\n",
       "      <th>clean_up_cost</th>\n",
       "      <th>judgment_amount</th>\n",
       "      <th>payment_amount</th>\n",
       "      <th>balance_due</th>\n",
       "      <th>compliance</th>\n",
       "    </tr>\n",
       "  </thead>\n",
       "  <tbody>\n",
       "    <tr>\n",
       "      <th>count</th>\n",
       "      <td>159879.000000</td>\n",
       "      <td>1.598790e+05</td>\n",
       "      <td>0.0</td>\n",
       "      <td>1.573210e+05</td>\n",
       "      <td>159879.000000</td>\n",
       "      <td>159879.0</td>\n",
       "      <td>159879.0</td>\n",
       "      <td>159879.000000</td>\n",
       "      <td>159879.000000</td>\n",
       "      <td>159879.0</td>\n",
       "      <td>159879.000000</td>\n",
       "      <td>159879.000000</td>\n",
       "      <td>159879.000000</td>\n",
       "      <td>159879.000000</td>\n",
       "    </tr>\n",
       "    <tr>\n",
       "      <th>mean</th>\n",
       "      <td>150453.382064</td>\n",
       "      <td>1.071322e+04</td>\n",
       "      <td>NaN</td>\n",
       "      <td>9.133656e+03</td>\n",
       "      <td>357.037216</td>\n",
       "      <td>20.0</td>\n",
       "      <td>10.0</td>\n",
       "      <td>33.651692</td>\n",
       "      <td>0.195961</td>\n",
       "      <td>0.0</td>\n",
       "      <td>420.652317</td>\n",
       "      <td>72.206457</td>\n",
       "      <td>348.265463</td>\n",
       "      <td>0.072530</td>\n",
       "    </tr>\n",
       "    <tr>\n",
       "      <th>std</th>\n",
       "      <td>77224.657123</td>\n",
       "      <td>3.623169e+04</td>\n",
       "      <td>NaN</td>\n",
       "      <td>3.657740e+04</td>\n",
       "      <td>675.657256</td>\n",
       "      <td>0.0</td>\n",
       "      <td>0.0</td>\n",
       "      <td>67.693090</td>\n",
       "      <td>4.290357</td>\n",
       "      <td>0.0</td>\n",
       "      <td>742.556910</td>\n",
       "      <td>259.850356</td>\n",
       "      <td>729.297461</td>\n",
       "      <td>0.259364</td>\n",
       "    </tr>\n",
       "    <tr>\n",
       "      <th>min</th>\n",
       "      <td>18645.000000</td>\n",
       "      <td>0.000000e+00</td>\n",
       "      <td>NaN</td>\n",
       "      <td>1.000000e+00</td>\n",
       "      <td>0.000000</td>\n",
       "      <td>20.0</td>\n",
       "      <td>10.0</td>\n",
       "      <td>0.000000</td>\n",
       "      <td>0.000000</td>\n",
       "      <td>0.0</td>\n",
       "      <td>0.000000</td>\n",
       "      <td>0.000000</td>\n",
       "      <td>-7750.000000</td>\n",
       "      <td>0.000000</td>\n",
       "    </tr>\n",
       "    <tr>\n",
       "      <th>25%</th>\n",
       "      <td>83370.500000</td>\n",
       "      <td>4.920000e+03</td>\n",
       "      <td>NaN</td>\n",
       "      <td>5.320000e+02</td>\n",
       "      <td>200.000000</td>\n",
       "      <td>20.0</td>\n",
       "      <td>10.0</td>\n",
       "      <td>10.000000</td>\n",
       "      <td>0.000000</td>\n",
       "      <td>0.0</td>\n",
       "      <td>250.000000</td>\n",
       "      <td>0.000000</td>\n",
       "      <td>85.000000</td>\n",
       "      <td>0.000000</td>\n",
       "    </tr>\n",
       "    <tr>\n",
       "      <th>50%</th>\n",
       "      <td>149777.000000</td>\n",
       "      <td>1.039800e+04</td>\n",
       "      <td>NaN</td>\n",
       "      <td>2.418000e+03</td>\n",
       "      <td>250.000000</td>\n",
       "      <td>20.0</td>\n",
       "      <td>10.0</td>\n",
       "      <td>25.000000</td>\n",
       "      <td>0.000000</td>\n",
       "      <td>0.0</td>\n",
       "      <td>305.000000</td>\n",
       "      <td>0.000000</td>\n",
       "      <td>305.000000</td>\n",
       "      <td>0.000000</td>\n",
       "    </tr>\n",
       "    <tr>\n",
       "      <th>75%</th>\n",
       "      <td>217479.500000</td>\n",
       "      <td>1.578350e+04</td>\n",
       "      <td>NaN</td>\n",
       "      <td>1.284400e+04</td>\n",
       "      <td>250.000000</td>\n",
       "      <td>20.0</td>\n",
       "      <td>10.0</td>\n",
       "      <td>25.000000</td>\n",
       "      <td>0.000000</td>\n",
       "      <td>0.0</td>\n",
       "      <td>305.000000</td>\n",
       "      <td>0.000000</td>\n",
       "      <td>305.000000</td>\n",
       "      <td>0.000000</td>\n",
       "    </tr>\n",
       "    <tr>\n",
       "      <th>max</th>\n",
       "      <td>299363.000000</td>\n",
       "      <td>1.415411e+07</td>\n",
       "      <td>NaN</td>\n",
       "      <td>5.111345e+06</td>\n",
       "      <td>10000.000000</td>\n",
       "      <td>20.0</td>\n",
       "      <td>10.0</td>\n",
       "      <td>1000.000000</td>\n",
       "      <td>350.000000</td>\n",
       "      <td>0.0</td>\n",
       "      <td>11030.000000</td>\n",
       "      <td>11030.000000</td>\n",
       "      <td>11030.000000</td>\n",
       "      <td>1.000000</td>\n",
       "    </tr>\n",
       "  </tbody>\n",
       "</table>\n",
       "</div>"
      ],
      "text/plain": [
       "           ticket_id  violation_street_number  violation_zip_code  \\\n",
       "count  159879.000000             1.598790e+05                 0.0   \n",
       "mean   150453.382064             1.071322e+04                 NaN   \n",
       "std     77224.657123             3.623169e+04                 NaN   \n",
       "min     18645.000000             0.000000e+00                 NaN   \n",
       "25%     83370.500000             4.920000e+03                 NaN   \n",
       "50%    149777.000000             1.039800e+04                 NaN   \n",
       "75%    217479.500000             1.578350e+04                 NaN   \n",
       "max    299363.000000             1.415411e+07                 NaN   \n",
       "\n",
       "       mailing_address_str_number    fine_amount  admin_fee  state_fee  \\\n",
       "count                1.573210e+05  159879.000000   159879.0   159879.0   \n",
       "mean                 9.133656e+03     357.037216       20.0       10.0   \n",
       "std                  3.657740e+04     675.657256        0.0        0.0   \n",
       "min                  1.000000e+00       0.000000       20.0       10.0   \n",
       "25%                  5.320000e+02     200.000000       20.0       10.0   \n",
       "50%                  2.418000e+03     250.000000       20.0       10.0   \n",
       "75%                  1.284400e+04     250.000000       20.0       10.0   \n",
       "max                  5.111345e+06   10000.000000       20.0       10.0   \n",
       "\n",
       "            late_fee  discount_amount  clean_up_cost  judgment_amount  \\\n",
       "count  159879.000000    159879.000000       159879.0    159879.000000   \n",
       "mean       33.651692         0.195961            0.0       420.652317   \n",
       "std        67.693090         4.290357            0.0       742.556910   \n",
       "min         0.000000         0.000000            0.0         0.000000   \n",
       "25%        10.000000         0.000000            0.0       250.000000   \n",
       "50%        25.000000         0.000000            0.0       305.000000   \n",
       "75%        25.000000         0.000000            0.0       305.000000   \n",
       "max      1000.000000       350.000000            0.0     11030.000000   \n",
       "\n",
       "       payment_amount    balance_due     compliance  \n",
       "count   159879.000000  159879.000000  159879.000000  \n",
       "mean        72.206457     348.265463       0.072530  \n",
       "std        259.850356     729.297461       0.259364  \n",
       "min          0.000000   -7750.000000       0.000000  \n",
       "25%          0.000000      85.000000       0.000000  \n",
       "50%          0.000000     305.000000       0.000000  \n",
       "75%          0.000000     305.000000       0.000000  \n",
       "max      11030.000000   11030.000000       1.000000  "
      ]
     },
     "execution_count": 10,
     "metadata": {},
     "output_type": "execute_result"
    }
   ],
   "source": [
    "train.describe()"
   ]
  },
  {
   "cell_type": "code",
   "execution_count": 11,
   "metadata": {
    "collapsed": false
   },
   "outputs": [
    {
     "name": "stdout",
     "output_type": "stream",
     "text": [
      "test df is from:  2012-01-04 14:00:00  to  2016-12-29 15:00:00\n"
     ]
    }
   ],
   "source": [
    "print(\"test df is from: \", test['ticket_issued_date'].min(),\" to \", test['ticket_issued_date'].max())"
   ]
  },
  {
   "cell_type": "code",
   "execution_count": 12,
   "metadata": {
    "collapsed": false
   },
   "outputs": [
    {
     "data": {
      "text/html": [
       "<div>\n",
       "<table border=\"1\" class=\"dataframe\">\n",
       "  <thead>\n",
       "    <tr style=\"text-align: right;\">\n",
       "      <th></th>\n",
       "      <th>ticket_id</th>\n",
       "      <th>violation_street_number</th>\n",
       "      <th>non_us_str_code</th>\n",
       "      <th>fine_amount</th>\n",
       "      <th>admin_fee</th>\n",
       "      <th>state_fee</th>\n",
       "      <th>late_fee</th>\n",
       "      <th>discount_amount</th>\n",
       "      <th>clean_up_cost</th>\n",
       "      <th>judgment_amount</th>\n",
       "    </tr>\n",
       "  </thead>\n",
       "  <tbody>\n",
       "    <tr>\n",
       "      <th>count</th>\n",
       "      <td>61001.000000</td>\n",
       "      <td>6.100100e+04</td>\n",
       "      <td>0.0</td>\n",
       "      <td>61001.000000</td>\n",
       "      <td>61001.0</td>\n",
       "      <td>61001.0</td>\n",
       "      <td>61001.000000</td>\n",
       "      <td>61001.000000</td>\n",
       "      <td>61001.000000</td>\n",
       "      <td>61001.000000</td>\n",
       "    </tr>\n",
       "    <tr>\n",
       "      <th>mean</th>\n",
       "      <td>331724.532811</td>\n",
       "      <td>1.256638e+04</td>\n",
       "      <td>NaN</td>\n",
       "      <td>272.714185</td>\n",
       "      <td>20.0</td>\n",
       "      <td>10.0</td>\n",
       "      <td>25.116219</td>\n",
       "      <td>0.239340</td>\n",
       "      <td>20.649711</td>\n",
       "      <td>347.895541</td>\n",
       "    </tr>\n",
       "    <tr>\n",
       "      <th>std</th>\n",
       "      <td>25434.932141</td>\n",
       "      <td>1.414373e+05</td>\n",
       "      <td>NaN</td>\n",
       "      <td>360.101855</td>\n",
       "      <td>0.0</td>\n",
       "      <td>0.0</td>\n",
       "      <td>36.310155</td>\n",
       "      <td>3.245894</td>\n",
       "      <td>242.375180</td>\n",
       "      <td>460.058043</td>\n",
       "    </tr>\n",
       "    <tr>\n",
       "      <th>min</th>\n",
       "      <td>284932.000000</td>\n",
       "      <td>-1.512600e+04</td>\n",
       "      <td>NaN</td>\n",
       "      <td>0.000000</td>\n",
       "      <td>20.0</td>\n",
       "      <td>10.0</td>\n",
       "      <td>0.000000</td>\n",
       "      <td>0.000000</td>\n",
       "      <td>0.000000</td>\n",
       "      <td>0.000000</td>\n",
       "    </tr>\n",
       "    <tr>\n",
       "      <th>25%</th>\n",
       "      <td>310111.000000</td>\n",
       "      <td>6.008000e+03</td>\n",
       "      <td>NaN</td>\n",
       "      <td>50.000000</td>\n",
       "      <td>20.0</td>\n",
       "      <td>10.0</td>\n",
       "      <td>5.000000</td>\n",
       "      <td>0.000000</td>\n",
       "      <td>0.000000</td>\n",
       "      <td>85.000000</td>\n",
       "    </tr>\n",
       "    <tr>\n",
       "      <th>50%</th>\n",
       "      <td>332251.000000</td>\n",
       "      <td>1.213400e+04</td>\n",
       "      <td>NaN</td>\n",
       "      <td>200.000000</td>\n",
       "      <td>20.0</td>\n",
       "      <td>10.0</td>\n",
       "      <td>10.000000</td>\n",
       "      <td>0.000000</td>\n",
       "      <td>0.000000</td>\n",
       "      <td>250.000000</td>\n",
       "    </tr>\n",
       "    <tr>\n",
       "      <th>75%</th>\n",
       "      <td>353031.000000</td>\n",
       "      <td>1.716500e+04</td>\n",
       "      <td>NaN</td>\n",
       "      <td>250.000000</td>\n",
       "      <td>20.0</td>\n",
       "      <td>10.0</td>\n",
       "      <td>25.000000</td>\n",
       "      <td>0.000000</td>\n",
       "      <td>0.000000</td>\n",
       "      <td>305.000000</td>\n",
       "    </tr>\n",
       "    <tr>\n",
       "      <th>max</th>\n",
       "      <td>376698.000000</td>\n",
       "      <td>2.010611e+07</td>\n",
       "      <td>NaN</td>\n",
       "      <td>10000.000000</td>\n",
       "      <td>20.0</td>\n",
       "      <td>10.0</td>\n",
       "      <td>1000.000000</td>\n",
       "      <td>250.000000</td>\n",
       "      <td>15309.000000</td>\n",
       "      <td>15558.800000</td>\n",
       "    </tr>\n",
       "  </tbody>\n",
       "</table>\n",
       "</div>"
      ],
      "text/plain": [
       "           ticket_id  violation_street_number  non_us_str_code   fine_amount  \\\n",
       "count   61001.000000             6.100100e+04              0.0  61001.000000   \n",
       "mean   331724.532811             1.256638e+04              NaN    272.714185   \n",
       "std     25434.932141             1.414373e+05              NaN    360.101855   \n",
       "min    284932.000000            -1.512600e+04              NaN      0.000000   \n",
       "25%    310111.000000             6.008000e+03              NaN     50.000000   \n",
       "50%    332251.000000             1.213400e+04              NaN    200.000000   \n",
       "75%    353031.000000             1.716500e+04              NaN    250.000000   \n",
       "max    376698.000000             2.010611e+07              NaN  10000.000000   \n",
       "\n",
       "       admin_fee  state_fee      late_fee  discount_amount  clean_up_cost  \\\n",
       "count    61001.0    61001.0  61001.000000     61001.000000   61001.000000   \n",
       "mean        20.0       10.0     25.116219         0.239340      20.649711   \n",
       "std          0.0        0.0     36.310155         3.245894     242.375180   \n",
       "min         20.0       10.0      0.000000         0.000000       0.000000   \n",
       "25%         20.0       10.0      5.000000         0.000000       0.000000   \n",
       "50%         20.0       10.0     10.000000         0.000000       0.000000   \n",
       "75%         20.0       10.0     25.000000         0.000000       0.000000   \n",
       "max         20.0       10.0   1000.000000       250.000000   15309.000000   \n",
       "\n",
       "       judgment_amount  \n",
       "count     61001.000000  \n",
       "mean        347.895541  \n",
       "std         460.058043  \n",
       "min           0.000000  \n",
       "25%          85.000000  \n",
       "50%         250.000000  \n",
       "75%         305.000000  \n",
       "max       15558.800000  "
      ]
     },
     "execution_count": 12,
     "metadata": {},
     "output_type": "execute_result"
    }
   ],
   "source": [
    "test.describe()"
   ]
  },
  {
   "cell_type": "code",
   "execution_count": 13,
   "metadata": {
    "collapsed": false
   },
   "outputs": [
    {
     "data": {
      "text/plain": [
       "(159879, 34)"
      ]
     },
     "execution_count": 13,
     "metadata": {},
     "output_type": "execute_result"
    }
   ],
   "source": [
    "train.shape"
   ]
  },
  {
   "cell_type": "code",
   "execution_count": 14,
   "metadata": {
    "collapsed": false
   },
   "outputs": [
    {
     "data": {
      "text/plain": [
       "(61001, 27)"
      ]
     },
     "execution_count": 14,
     "metadata": {},
     "output_type": "execute_result"
    }
   ],
   "source": [
    "test.shape"
   ]
  },
  {
   "cell_type": "code",
   "execution_count": 15,
   "metadata": {
    "collapsed": true
   },
   "outputs": [],
   "source": [
    "train_only_col = ['payment_amount', 'payment_date', 'payment_status', 'balance_due', 'collection_status', 'compliance_detail']"
   ]
  },
  {
   "cell_type": "code",
   "execution_count": 16,
   "metadata": {
    "collapsed": true
   },
   "outputs": [],
   "source": [
    "train.drop(train_only_col, axis=1, inplace=1)"
   ]
  },
  {
   "cell_type": "markdown",
   "metadata": {},
   "source": [
    "Percentage of missing values"
   ]
  },
  {
   "cell_type": "code",
   "execution_count": 17,
   "metadata": {
    "collapsed": false
   },
   "outputs": [
    {
     "data": {
      "text/plain": [
       "ticket_id                     0.000000\n",
       "agency_name                   0.000000\n",
       "inspector_name                0.000000\n",
       "violator_name                 0.000163\n",
       "violation_street_number       0.000000\n",
       "violation_street_name         0.000000\n",
       "violation_zip_code            1.000000\n",
       "mailing_address_str_number    0.016000\n",
       "mailing_address_str_name      0.000019\n",
       "city                          0.000000\n",
       "state                         0.000525\n",
       "zip_code                      0.000006\n",
       "non_us_str_code               0.999981\n",
       "country                       0.000000\n",
       "ticket_issued_date            0.000000\n",
       "hearing_date                  0.001420\n",
       "violation_code                0.000000\n",
       "violation_description         0.000000\n",
       "disposition                   0.000000\n",
       "fine_amount                   0.000000\n",
       "admin_fee                     0.000000\n",
       "state_fee                     0.000000\n",
       "late_fee                      0.000000\n",
       "discount_amount               0.000000\n",
       "clean_up_cost                 0.000000\n",
       "judgment_amount               0.000000\n",
       "grafitti_status               1.000000\n",
       "compliance                    0.000000\n",
       "dtype: float64"
      ]
     },
     "execution_count": 17,
     "metadata": {},
     "output_type": "execute_result"
    }
   ],
   "source": [
    "(np.sum(train.isnull())/len(train['ticket_id']))"
   ]
  },
  {
   "cell_type": "code",
   "execution_count": 18,
   "metadata": {
    "collapsed": false
   },
   "outputs": [],
   "source": [
    "missing_data_col = ['grafitti_status','violation_zip_code']"
   ]
  },
  {
   "cell_type": "code",
   "execution_count": 19,
   "metadata": {
    "collapsed": true
   },
   "outputs": [],
   "source": [
    "train.drop(missing_data_col, inplace=True, axis=1)"
   ]
  },
  {
   "cell_type": "code",
   "execution_count": 20,
   "metadata": {
    "collapsed": true
   },
   "outputs": [],
   "source": [
    "test.drop(missing_data_col, inplace=True, axis=1)"
   ]
  },
  {
   "cell_type": "markdown",
   "metadata": {},
   "source": [
    "## EDA"
   ]
  },
  {
   "cell_type": "code",
   "execution_count": 21,
   "metadata": {
    "collapsed": false
   },
   "outputs": [
    {
     "data": {
      "text/plain": [
       "<matplotlib.axes._subplots.AxesSubplot at 0x7fc52d006f28>"
      ]
     },
     "execution_count": 21,
     "metadata": {},
     "output_type": "execute_result"
    },
    {
     "data": {
      "image/png": "[encoded data removed]",
      "text/plain": [
       "<matplotlib.figure.Figure at 0x7fc52d006860>"
      ]
     },
     "metadata": {},
     "output_type": "display_data"
    }
   ],
   "source": [
    "train.groupby(['non_us_str_code']).mean()['compliance'].plot.bar()\n",
    "train.groupby(['non_us_str_code']).count()['compliance'].plot.bar() # this doesn't give us enough data to learn"
   ]
  },
  {
   "cell_type": "code",
   "execution_count": 22,
   "metadata": {
    "collapsed": true
   },
   "outputs": [],
   "source": [
    "del train['non_us_str_code']\n",
    "del test['non_us_str_code']"
   ]
  },
  {
   "cell_type": "code",
   "execution_count": 23,
   "metadata": {
    "collapsed": false
   },
   "outputs": [
    {
     "data": {
      "text/plain": [
       "array(['Buildings, Safety Engineering & Env Department',\n",
       "       'Health Department', 'Department of Public Works',\n",
       "       'Detroit Police Department', 'Neighborhood City Halls'], dtype=object)"
      ]
     },
     "execution_count": 23,
     "metadata": {},
     "output_type": "execute_result"
    }
   ],
   "source": [
    "train['agency_name'].unique()"
   ]
  },
  {
   "cell_type": "code",
   "execution_count": 24,
   "metadata": {
    "collapsed": false
   },
   "outputs": [
    {
     "data": {
      "text/plain": [
       "array(['Department of Public Works',\n",
       "       'Buildings, Safety Engineering & Env Department',\n",
       "       'Detroit Police Department'], dtype=object)"
      ]
     },
     "execution_count": 24,
     "metadata": {},
     "output_type": "execute_result"
    }
   ],
   "source": [
    "test['agency_name'].unique()"
   ]
  },
  {
   "cell_type": "code",
   "execution_count": 25,
   "metadata": {
    "collapsed": false
   },
   "outputs": [],
   "source": [
    "def agency_name(x):\n",
    "    if 'buildings' in x.lower():\n",
    "        return 'Buildings'\n",
    "    elif 'health' in x.lower():\n",
    "        return 'Health'\n",
    "    elif 'public' in x.lower():\n",
    "        return 'Public Work'\n",
    "    elif 'police' in x.lower():\n",
    "        return 'Police'\n",
    "    elif 'halls' in x.lower():\n",
    "        return 'Neighborhood'\n",
    "train['agency_name'] = train['agency_name'].map(agency_name)"
   ]
  },
  {
   "cell_type": "code",
   "execution_count": 26,
   "metadata": {
    "collapsed": true
   },
   "outputs": [],
   "source": [
    "test['agency_name'] = test['agency_name'].map(agency_name)"
   ]
  },
  {
   "cell_type": "code",
   "execution_count": 27,
   "metadata": {
    "collapsed": false
   },
   "outputs": [],
   "source": [
    "''' to create a dummy variable for common values in the same columns of each df'''\n",
    "def dummy_common(train_df, test_df, column):\n",
    "    #column: is the columns for which dummy is to be created\n",
    "    col_names = list(set(train_df[column]) & set(test_df[column]));\n",
    "    for col in col_names:\n",
    "        train_df[col] = train_df[column].map(lambda x: 1 if x==col else 0)\n",
    "        test_df[col] = test_df[column].map(lambda x: 1 if x==col else 0)\n",
    "    del train_df[column]\n",
    "    del test_df[column]\n",
    "    return (train_df,test_df);"
   ]
  },
  {
   "cell_type": "code",
   "execution_count": 28,
   "metadata": {
    "collapsed": true
   },
   "outputs": [],
   "source": [
    "train, test = dummy_common(train, test, 'agency_name')"
   ]
  },
  {
   "cell_type": "code",
   "execution_count": 29,
   "metadata": {
    "collapsed": false
   },
   "outputs": [
    {
     "data": {
      "text/plain": [
       "array(['Responsible by Default', 'Responsible by Determination',\n",
       "       'Responsible by Admission', 'Responsible (Fine Waived) by Deter'], dtype=object)"
      ]
     },
     "execution_count": 29,
     "metadata": {},
     "output_type": "execute_result"
    }
   ],
   "source": [
    "train['disposition'].unique()"
   ]
  },
  {
   "cell_type": "code",
   "execution_count": 30,
   "metadata": {
    "collapsed": false
   },
   "outputs": [
    {
     "data": {
      "text/plain": [
       "array(['Responsible by Default', 'Responsible by Determination',\n",
       "       'Responsible by Admission', 'Responsible (Fine Waived) by Deter',\n",
       "       'Responsible (Fine Waived) by Admis',\n",
       "       'Responsible - Compl/Adj by Default',\n",
       "       'Responsible - Compl/Adj by Determi', 'Responsible by Dismissal'], dtype=object)"
      ]
     },
     "execution_count": 30,
     "metadata": {},
     "output_type": "execute_result"
    }
   ],
   "source": [
    "test['disposition'].unique()"
   ]
  },
  {
   "cell_type": "code",
   "execution_count": 31,
   "metadata": {
    "collapsed": false
   },
   "outputs": [
    {
     "data": {
      "image/png": "[encoded data removed]",
      "text/plain": [
       "<matplotlib.figure.Figure at 0x7fc52d02f828>"
      ]
     },
     "metadata": {},
     "output_type": "display_data"
    }
   ],
   "source": [
    "train.groupby('disposition')['ticket_id'].count().plot.bar();"
   ]
  },
  {
   "cell_type": "code",
   "execution_count": 32,
   "metadata": {
    "collapsed": false
   },
   "outputs": [
    {
     "data": {
      "text/plain": [
       "<matplotlib.axes._subplots.AxesSubplot at 0x7fc52d3f26a0>"
      ]
     },
     "execution_count": 32,
     "metadata": {},
     "output_type": "execute_result"
    },
    {
     "data": {
      "image/png": "[encoded data removed]",
      "text/plain": [
       "<matplotlib.figure.Figure at 0x7fc52d3c9cf8>"
      ]
     },
     "metadata": {},
     "output_type": "display_data"
    }
   ],
   "source": [
    "train.groupby('disposition')['compliance'].mean().plot.bar()"
   ]
  },
  {
   "cell_type": "code",
   "execution_count": 33,
   "metadata": {
    "collapsed": false
   },
   "outputs": [
    {
     "data": {
      "image/png": "[encoded data removed]",
      "text/plain": [
       "<matplotlib.figure.Figure at 0x7fc52d34c630>"
      ]
     },
     "metadata": {},
     "output_type": "display_data"
    }
   ],
   "source": [
    "test.groupby('disposition').count()['ticket_id'].plot.bar();"
   ]
  },
  {
   "cell_type": "code",
   "execution_count": 34,
   "metadata": {
    "collapsed": true
   },
   "outputs": [],
   "source": [
    "def disposition(x):\n",
    "    if 'fine waved' in x.lower():\n",
    "        return 'fine_waved'\n",
    "    elif 'determination' in x.lower():\n",
    "        return 'determination'\n",
    "    elif 'default' in x.lower():\n",
    "        return 'default'\n",
    "    elif 'admission' in x.lower():\n",
    "        return 'admission'\n",
    "    else:\n",
    "        return 'other'"
   ]
  },
  {
   "cell_type": "code",
   "execution_count": 35,
   "metadata": {
    "collapsed": false
   },
   "outputs": [],
   "source": [
    "train['disposition'] = train['disposition'].map(disposition)"
   ]
  },
  {
   "cell_type": "code",
   "execution_count": 36,
   "metadata": {
    "collapsed": true
   },
   "outputs": [],
   "source": [
    "test['disposition'] = test['disposition'].map(disposition)"
   ]
  },
  {
   "cell_type": "code",
   "execution_count": 37,
   "metadata": {
    "collapsed": true
   },
   "outputs": [],
   "source": [
    "train, test = dummy_common(train, test, 'disposition')"
   ]
  },
  {
   "cell_type": "code",
   "execution_count": 38,
   "metadata": {
    "collapsed": false
   },
   "outputs": [
    {
     "data": {
      "text/plain": [
       "Index(['ticket_id', 'inspector_name', 'violator_name',\n",
       "       'violation_street_number', 'violation_street_name',\n",
       "       'mailing_address_str_number', 'mailing_address_str_name', 'city',\n",
       "       'state', 'zip_code', 'country', 'ticket_issued_date', 'hearing_date',\n",
       "       'violation_code', 'violation_description', 'fine_amount', 'admin_fee',\n",
       "       'state_fee', 'late_fee', 'discount_amount', 'clean_up_cost',\n",
       "       'judgment_amount', 'compliance', 'Buildings', 'Police', 'Public Work',\n",
       "       'admission', 'default', 'other', 'determination'],\n",
       "      dtype='object')"
      ]
     },
     "execution_count": 38,
     "metadata": {},
     "output_type": "execute_result"
    }
   ],
   "source": [
    "train.columns"
   ]
  },
  {
   "cell_type": "code",
   "execution_count": 39,
   "metadata": {
    "collapsed": false
   },
   "outputs": [
    {
     "data": {
      "text/html": [
       "<div>\n",
       "<table border=\"1\" class=\"dataframe\">\n",
       "  <thead>\n",
       "    <tr style=\"text-align: right;\">\n",
       "      <th></th>\n",
       "      <th>violation_code</th>\n",
       "      <th>violation_description</th>\n",
       "    </tr>\n",
       "  </thead>\n",
       "  <tbody>\n",
       "    <tr>\n",
       "      <th>0</th>\n",
       "      <td>9-1-36(a)</td>\n",
       "      <td>Failure of owner to obtain certificate of comp...</td>\n",
       "    </tr>\n",
       "    <tr>\n",
       "      <th>1</th>\n",
       "      <td>61-63.0600</td>\n",
       "      <td>Failed To Secure Permit For Lawful Use Of Buil...</td>\n",
       "    </tr>\n",
       "    <tr>\n",
       "      <th>5</th>\n",
       "      <td>9-1-36(a)</td>\n",
       "      <td>Failure of owner to obtain certificate of comp...</td>\n",
       "    </tr>\n",
       "    <tr>\n",
       "      <th>6</th>\n",
       "      <td>61-63.0500</td>\n",
       "      <td>Failed To Secure Permit For Lawful Use Of Land</td>\n",
       "    </tr>\n",
       "    <tr>\n",
       "      <th>7</th>\n",
       "      <td>61-63.0100</td>\n",
       "      <td>Noncompliance/Grant Condition/BZA/BSE</td>\n",
       "    </tr>\n",
       "  </tbody>\n",
       "</table>\n",
       "</div>"
      ],
      "text/plain": [
       "  violation_code                              violation_description\n",
       "0      9-1-36(a)  Failure of owner to obtain certificate of comp...\n",
       "1     61-63.0600  Failed To Secure Permit For Lawful Use Of Buil...\n",
       "5      9-1-36(a)  Failure of owner to obtain certificate of comp...\n",
       "6     61-63.0500     Failed To Secure Permit For Lawful Use Of Land\n",
       "7     61-63.0100              Noncompliance/Grant Condition/BZA/BSE"
      ]
     },
     "execution_count": 39,
     "metadata": {},
     "output_type": "execute_result"
    }
   ],
   "source": [
    "train[['violation_code', 'violation_description']].head() # we can remove the digits after last - or '.',\n",
    "# as the violation code are section and article wise and then sub articles. "
   ]
  },
  {
   "cell_type": "code",
   "execution_count": 40,
   "metadata": {
    "collapsed": false
   },
   "outputs": [
    {
     "data": {
      "text/plain": [
       "array(['9-1-36(a)', '61-63.0600', '61-63.0500', '61-63.0100', '9-1-103(C)',\n",
       "       '22-2-83(a)(b)(c)', '22-2-21(b)', '9-1-36(c)', '22-2-17', '22-2-23',\n",
       "       '61-47.0000/47.0108', '61-90.0100', '22-2-88', '19450901',\n",
       "       '22-2-43', '9-1-355', '22-2-83', '22-2-22', '22-2-45', '9-1-110(a)',\n",
       "       '22-2-88(a)', '9-1-104', '9-1-105', '22-2-61', '9-1-201(a)',\n",
       "       '9-1-209', '61-130.0000/130.0400', '22-2-41', '9-1-101',\n",
       "       '9-1-43(a) - (Dwellin', '9-1-205', '9-1-206', '9-1-107',\n",
       "       '9-1-201(b)', '9-1-210', '9-1-220', '20130901', '9-1-214',\n",
       "       '9-1-103 (a) or (b)', '9-1-477', '9-1-211', '9-1-204', '9-1-310',\n",
       "       '9-1-208', '9-1-81(a)', '9-1-476', '22-2-44', '9-1-303', '22-2-49',\n",
       "       '9-1-111', '22-2-16', '9-1-221', '22-2-20', '9-1-36(d)',\n",
       "       '61-80.0100', '9-1-106', '9-1-108', '9-1-43(a) - (Structu',\n",
       "       '61-82.0100/32.0066', '61-81.0100/45.0807', '22-2-84(a)(1)(2)(4)',\n",
       "       '22-2-87(a)', '22-2-56', '19830901', '61-81.0100/32.0066',\n",
       "       '61-130.0000/130.0500', '9-1-216', '9-1-43(a) - (Stories',\n",
       "       '9-1-304', '9-1-102', '9-1-212', '22-2-38', '22-2-84 (DO NOT USE ',\n",
       "       '9-1-207', '9-1-354', '9-1-306', '61-83.0100/32.0066',\n",
       "       '61-111.0100/32.0066', '61-121.0100/32.0066', '61-120.0100/32.0066',\n",
       "       '9-1-464', '9-1-441', '9-1-441(a)', '9-1-462(a)', '9-1-474',\n",
       "       '9-1-432(a)', '9-1-213', '22-2-55', '9-1-110(b)', '9-1-440',\n",
       "       '22-2-87', '22-2-53', '9-1-81(b)', '9-1-301', '9-1-331', '9-1-202',\n",
       "       '9-1-442', '9-1-351', '9-1-406', '22-2-97(b)', '9-1-311',\n",
       "       '61-101.0100/32.0066', '9-1-478', '9-1-439', '9-1-375', '9-1-469',\n",
       "       '9-1-465', '9-1-443(a)', '9-1-309', '9-1-305', '9-1-443(b)',\n",
       "       '61-4-33', '22-2-18', '61-4-32', '9-1-45(c)', '9-1-45(b)',\n",
       "       '9-1-46(a)', '22-2-91', '9-1-468', '9-1-405', '9-1-219',\n",
       "       '61-114.0100', '22-2-42', '22-2-96', '9-1-307', '19840901',\n",
       "       '9-1-377', '9-1-81(e)', '19850901', '9-1-353(2)', '61-8-127',\n",
       "       '9-1-12(b)', '61-8-27', '20180901', '9-1-109', '9-1-333', '9-1-112',\n",
       "       '61-5-19', '61-5-21', '22-3-2', '22-2-93', '61-8-47', '22-2-85',\n",
       "       '22-2-94', '9-1-352', '9-1-203', '61-5-18', '22-2-21(a)',\n",
       "       '61-118.0100/32.0066', '22-2-84(b)(3)', '61-83.0100/32.0031',\n",
       "       '61-86.0100/32.0076B', '61-86.0100/32.0066', '61-82.0100/32.0031',\n",
       "       '61-104.0100', '9-1-503', '61-86.0100/45.0807',\n",
       "       '61-45.0000/45.0800', '61-4-35', '61-4-37', '19420901', '9-1-502',\n",
       "       '22-2-88(b)', '22-2-22(a)', '22-2-17(a)', '22-2-83(c)',\n",
       "       '22-2-83(b)', '22-2-83(d)', '22-2-84(a)', '22-2-49(a)',\n",
       "       '22-2-49(c)', '61-84.0100/45.0807', '61-84.0100/32.0066',\n",
       "       '9-1-82(d) - (Structu', '9-1-82(d) - (Dwellin',\n",
       "       '9-1-83 - (Dwelling)', '9-1-82(d) - (Buildin',\n",
       "       '9-1-83 - (Structures', '9-1-434', '9-1-332', '9-1-82(b)',\n",
       "       '9-1-83 - (Building 5', '22-2-49(d)', '9-1-50 (e)', '9-1-113',\n",
       "       '9-1-50(b)', '20160901', '9-1-50(a)', '22-2-49(b)'], dtype=object)"
      ]
     },
     "execution_count": 40,
     "metadata": {},
     "output_type": "execute_result"
    }
   ],
   "source": [
    "train['violation_code'].unique()"
   ]
  },
  {
   "cell_type": "code",
   "execution_count": 41,
   "metadata": {
    "collapsed": false
   },
   "outputs": [
    {
     "data": {
      "image/png": "[encoded data removed]",
      "text/plain": [
       "<matplotlib.figure.Figure at 0x7fc52d3e0908>"
      ]
     },
     "metadata": {},
     "output_type": "display_data"
    }
   ],
   "source": [
    "train.groupby('violation_code')['compliance'].count().plot.bar()\n",
    "fig = plt.gcf();\n",
    "fig.set_size_inches(14,5);\n",
    "fig.set_dpi(100);"
   ]
  },
  {
   "cell_type": "code",
   "execution_count": 42,
   "metadata": {
    "collapsed": true
   },
   "outputs": [],
   "source": [
    "train['violation_code'] = train['violation_code'].map(lambda x: \"-\".join(x.split('-')[0:2]).split('.')[0]) # since there are many dates we will have to leave this columns. This dates could be probable mistake in entry"
   ]
  },
  {
   "cell_type": "code",
   "execution_count": 43,
   "metadata": {
    "collapsed": true
   },
   "outputs": [],
   "source": [
    "test['violation_code'] = test['violation_code'].map(lambda x: \"-\".join(x.split('-')[0:2]).split('.')[0]) # since there are many dates we will have to leave this columns. This dates could be probable mistake in entry"
   ]
  },
  {
   "cell_type": "code",
   "execution_count": 44,
   "metadata": {
    "collapsed": false
   },
   "outputs": [
    {
     "data": {
      "image/png": "[encoded data removed]",
      "text/plain": [
       "<matplotlib.figure.Figure at 0x7fc51ebfde48>"
      ]
     },
     "metadata": {},
     "output_type": "display_data"
    }
   ],
   "source": [
    "train.groupby('violation_code')['compliance'].count().plot.bar()\n",
    "fig = plt.gcf();\n",
    "fig.set_size_inches(14,5);\n",
    "fig.set_dpi(100);"
   ]
  },
  {
   "cell_type": "code",
   "execution_count": 45,
   "metadata": {
    "collapsed": false
   },
   "outputs": [
    {
     "data": {
      "image/png": "[encoded data removed]",
      "text/plain": [
       "<matplotlib.figure.Figure at 0x7fc51eb31ef0>"
      ]
     },
     "metadata": {},
     "output_type": "display_data"
    }
   ],
   "source": [
    "train.groupby('violation_code')['compliance'].mean().plot.bar()\n",
    "fig = plt.gcf();\n",
    "fig.set_size_inches(14,5);\n",
    "fig.set_dpi(100);"
   ]
  },
  {
   "cell_type": "code",
   "execution_count": 46,
   "metadata": {
    "collapsed": false
   },
   "outputs": [],
   "source": [
    "test['violation_code'] = test['violation_code'].map(lambda x: 'other' if len(x) > 4 else x.split('-')[0])"
   ]
  },
  {
   "cell_type": "code",
   "execution_count": 47,
   "metadata": {
    "collapsed": false
   },
   "outputs": [],
   "source": [
    "train['violation_code'] = train['violation_code'].map(lambda x: 'other' if len(x) > 4 else x.split('-')[0])"
   ]
  },
  {
   "cell_type": "code",
   "execution_count": 48,
   "metadata": {
    "collapsed": false
   },
   "outputs": [
    {
     "data": {
      "text/plain": [
       "0         370.0\n",
       "1         379.0\n",
       "5         324.0\n",
       "6         254.0\n",
       "7         252.0\n",
       "8         252.0\n",
       "9         324.0\n",
       "12        210.0\n",
       "13        202.0\n",
       "14        190.0\n",
       "18        139.0\n",
       "19        139.0\n",
       "21        191.0\n",
       "22        190.0\n",
       "23        216.0\n",
       "26         41.0\n",
       "28         25.0\n",
       "30         31.0\n",
       "31         31.0\n",
       "33         69.0\n",
       "34         32.0\n",
       "35         36.0\n",
       "37         36.0\n",
       "38         31.0\n",
       "39         36.0\n",
       "40         31.0\n",
       "41         40.0\n",
       "42         22.0\n",
       "43         36.0\n",
       "44         31.0\n",
       "          ...  \n",
       "250244   -279.0\n",
       "250249   -223.0\n",
       "250250   -294.0\n",
       "250254   -279.0\n",
       "250255   -279.0\n",
       "250256   -293.0\n",
       "250257     14.0\n",
       "250258     20.0\n",
       "250259     20.0\n",
       "250261     20.0\n",
       "250262     20.0\n",
       "250264     31.0\n",
       "250265     45.0\n",
       "250266     31.0\n",
       "250267     31.0\n",
       "250268     38.0\n",
       "250269     38.0\n",
       "250270     38.0\n",
       "250271     38.0\n",
       "250272     31.0\n",
       "250273     31.0\n",
       "250274     31.0\n",
       "250275     30.0\n",
       "250276     30.0\n",
       "250277     30.0\n",
       "250278     38.0\n",
       "250287     11.0\n",
       "250288     27.0\n",
       "250290     41.0\n",
       "250293      6.0\n",
       "Name: time_gap, dtype: float64"
      ]
     },
     "execution_count": 48,
     "metadata": {},
     "output_type": "execute_result"
    }
   ],
   "source": [
    "train['time_gap'] = (train['hearing_date']-train['ticket_issued_date']).dt.days+1;\n",
    "train['time_gap'] "
   ]
  },
  {
   "cell_type": "code",
   "execution_count": 49,
   "metadata": {
    "collapsed": false
   },
   "outputs": [
    {
     "data": {
      "text/html": [
       "<div>\n",
       "<table border=\"1\" class=\"dataframe\">\n",
       "  <thead>\n",
       "    <tr style=\"text-align: right;\">\n",
       "      <th></th>\n",
       "      <th>ticket_issued_date</th>\n",
       "      <th>hearing_date</th>\n",
       "    </tr>\n",
       "  </thead>\n",
       "  <tbody>\n",
       "    <tr>\n",
       "      <th>81036</th>\n",
       "      <td>2006-12-28 13:15:00</td>\n",
       "      <td>2006-12-20 10:30:00</td>\n",
       "    </tr>\n",
       "    <tr>\n",
       "      <th>124408</th>\n",
       "      <td>2007-12-27 15:00:00</td>\n",
       "      <td>2007-12-20 10:30:00</td>\n",
       "    </tr>\n",
       "    <tr>\n",
       "      <th>124416</th>\n",
       "      <td>2007-12-30 13:45:00</td>\n",
       "      <td>2007-12-13 10:30:00</td>\n",
       "    </tr>\n",
       "    <tr>\n",
       "      <th>137576</th>\n",
       "      <td>2008-03-27 13:10:00</td>\n",
       "      <td>2008-03-18 10:30:00</td>\n",
       "    </tr>\n",
       "    <tr>\n",
       "      <th>137577</th>\n",
       "      <td>2008-03-27 13:10:00</td>\n",
       "      <td>2008-03-18 10:30:00</td>\n",
       "    </tr>\n",
       "    <tr>\n",
       "      <th>137650</th>\n",
       "      <td>2008-03-27 13:25:00</td>\n",
       "      <td>2008-03-18 10:30:00</td>\n",
       "    </tr>\n",
       "    <tr>\n",
       "      <th>137651</th>\n",
       "      <td>2008-03-27 13:25:00</td>\n",
       "      <td>2008-03-18 10:30:00</td>\n",
       "    </tr>\n",
       "    <tr>\n",
       "      <th>137660</th>\n",
       "      <td>2008-03-27 09:00:00</td>\n",
       "      <td>2008-03-17 09:00:00</td>\n",
       "    </tr>\n",
       "    <tr>\n",
       "      <th>137661</th>\n",
       "      <td>2008-03-27 09:00:00</td>\n",
       "      <td>2008-03-17 09:00:00</td>\n",
       "    </tr>\n",
       "    <tr>\n",
       "      <th>137683</th>\n",
       "      <td>2008-03-27 13:35:00</td>\n",
       "      <td>2008-03-18 10:30:00</td>\n",
       "    </tr>\n",
       "    <tr>\n",
       "      <th>137777</th>\n",
       "      <td>2008-03-27 13:15:00</td>\n",
       "      <td>2008-03-18 10:30:00</td>\n",
       "    </tr>\n",
       "    <tr>\n",
       "      <th>137778</th>\n",
       "      <td>2008-03-27 13:15:00</td>\n",
       "      <td>2008-03-18 10:30:00</td>\n",
       "    </tr>\n",
       "    <tr>\n",
       "      <th>137781</th>\n",
       "      <td>2008-03-27 09:00:00</td>\n",
       "      <td>2008-03-17 09:00:00</td>\n",
       "    </tr>\n",
       "    <tr>\n",
       "      <th>137859</th>\n",
       "      <td>2008-03-27 13:30:00</td>\n",
       "      <td>2008-03-18 10:30:00</td>\n",
       "    </tr>\n",
       "    <tr>\n",
       "      <th>137860</th>\n",
       "      <td>2008-03-27 13:30:00</td>\n",
       "      <td>2008-03-18 10:30:00</td>\n",
       "    </tr>\n",
       "    <tr>\n",
       "      <th>137870</th>\n",
       "      <td>2008-03-27 09:00:00</td>\n",
       "      <td>2008-03-17 09:00:00</td>\n",
       "    </tr>\n",
       "    <tr>\n",
       "      <th>137875</th>\n",
       "      <td>2008-03-27 13:00:00</td>\n",
       "      <td>2008-03-18 10:30:00</td>\n",
       "    </tr>\n",
       "    <tr>\n",
       "      <th>137876</th>\n",
       "      <td>2008-03-27 13:00:00</td>\n",
       "      <td>2008-03-18 10:30:00</td>\n",
       "    </tr>\n",
       "    <tr>\n",
       "      <th>157454</th>\n",
       "      <td>2008-08-22 14:00:00</td>\n",
       "      <td>2008-08-14 13:30:00</td>\n",
       "    </tr>\n",
       "    <tr>\n",
       "      <th>171418</th>\n",
       "      <td>2008-12-12 11:20:00</td>\n",
       "      <td>2008-04-25 13:30:00</td>\n",
       "    </tr>\n",
       "    <tr>\n",
       "      <th>171669</th>\n",
       "      <td>2008-12-18 10:00:00</td>\n",
       "      <td>2008-04-11 09:00:00</td>\n",
       "    </tr>\n",
       "    <tr>\n",
       "      <th>171810</th>\n",
       "      <td>2008-12-31 13:30:00</td>\n",
       "      <td>2008-02-25 13:30:00</td>\n",
       "    </tr>\n",
       "    <tr>\n",
       "      <th>188172</th>\n",
       "      <td>2009-05-28 11:30:00</td>\n",
       "      <td>2009-05-18 10:30:00</td>\n",
       "    </tr>\n",
       "    <tr>\n",
       "      <th>206405</th>\n",
       "      <td>2009-12-24 11:25:00</td>\n",
       "      <td>2009-12-16 13:30:00</td>\n",
       "    </tr>\n",
       "    <tr>\n",
       "      <th>210557</th>\n",
       "      <td>2010-02-25 11:20:00</td>\n",
       "      <td>2010-02-16 13:30:00</td>\n",
       "    </tr>\n",
       "    <tr>\n",
       "      <th>214858</th>\n",
       "      <td>2010-04-29 09:30:00</td>\n",
       "      <td>2010-04-22 09:00:00</td>\n",
       "    </tr>\n",
       "    <tr>\n",
       "      <th>214890</th>\n",
       "      <td>2010-04-29 10:30:00</td>\n",
       "      <td>2010-04-22 09:00:00</td>\n",
       "    </tr>\n",
       "    <tr>\n",
       "      <th>214911</th>\n",
       "      <td>2010-04-29 13:00:00</td>\n",
       "      <td>2010-04-22 09:00:00</td>\n",
       "    </tr>\n",
       "    <tr>\n",
       "      <th>214921</th>\n",
       "      <td>2010-04-29 10:10:00</td>\n",
       "      <td>2010-04-22 09:00:00</td>\n",
       "    </tr>\n",
       "    <tr>\n",
       "      <th>231768</th>\n",
       "      <td>2010-12-04 09:15:00</td>\n",
       "      <td>2010-04-20 10:30:00</td>\n",
       "    </tr>\n",
       "    <tr>\n",
       "      <th>...</th>\n",
       "      <td>...</td>\n",
       "      <td>...</td>\n",
       "    </tr>\n",
       "    <tr>\n",
       "      <th>232582</th>\n",
       "      <td>2010-12-22 11:00:00</td>\n",
       "      <td>2010-06-14 10:30:00</td>\n",
       "    </tr>\n",
       "    <tr>\n",
       "      <th>232590</th>\n",
       "      <td>2010-12-22 22:30:00</td>\n",
       "      <td>2010-12-15 13:30:00</td>\n",
       "    </tr>\n",
       "    <tr>\n",
       "      <th>232598</th>\n",
       "      <td>2010-12-22 11:00:00</td>\n",
       "      <td>2010-01-29 09:00:00</td>\n",
       "    </tr>\n",
       "    <tr>\n",
       "      <th>232599</th>\n",
       "      <td>2010-12-22 11:00:00</td>\n",
       "      <td>2010-06-14 10:30:00</td>\n",
       "    </tr>\n",
       "    <tr>\n",
       "      <th>232606</th>\n",
       "      <td>2010-12-23 12:00:00</td>\n",
       "      <td>2010-01-21 09:00:00</td>\n",
       "    </tr>\n",
       "    <tr>\n",
       "      <th>232607</th>\n",
       "      <td>2010-12-23 12:00:00</td>\n",
       "      <td>2010-01-21 15:00:00</td>\n",
       "    </tr>\n",
       "    <tr>\n",
       "      <th>236215</th>\n",
       "      <td>2011-02-24 09:50:00</td>\n",
       "      <td>2011-02-21 13:30:00</td>\n",
       "    </tr>\n",
       "    <tr>\n",
       "      <th>236261</th>\n",
       "      <td>2011-02-24 09:00:00</td>\n",
       "      <td>2011-02-21 13:30:00</td>\n",
       "    </tr>\n",
       "    <tr>\n",
       "      <th>236291</th>\n",
       "      <td>2011-02-24 09:20:00</td>\n",
       "      <td>2011-02-21 13:30:00</td>\n",
       "    </tr>\n",
       "    <tr>\n",
       "      <th>237628</th>\n",
       "      <td>2011-03-23 14:40:00</td>\n",
       "      <td>2011-03-18 10:30:00</td>\n",
       "    </tr>\n",
       "    <tr>\n",
       "      <th>239965</th>\n",
       "      <td>2011-04-30 09:30:00</td>\n",
       "      <td>2011-04-14 09:00:00</td>\n",
       "    </tr>\n",
       "    <tr>\n",
       "      <th>241699</th>\n",
       "      <td>2011-05-27 10:10:00</td>\n",
       "      <td>2011-05-24 10:30:00</td>\n",
       "    </tr>\n",
       "    <tr>\n",
       "      <th>245119</th>\n",
       "      <td>2011-08-29 09:40:00</td>\n",
       "      <td>2011-08-23 13:30:00</td>\n",
       "    </tr>\n",
       "    <tr>\n",
       "      <th>246960</th>\n",
       "      <td>2011-09-24 09:50:00</td>\n",
       "      <td>2011-09-21 09:00:00</td>\n",
       "    </tr>\n",
       "    <tr>\n",
       "      <th>247235</th>\n",
       "      <td>2011-09-29 15:30:00</td>\n",
       "      <td>2011-09-20 10:30:00</td>\n",
       "    </tr>\n",
       "    <tr>\n",
       "      <th>247246</th>\n",
       "      <td>2011-09-30 10:00:00</td>\n",
       "      <td>2011-09-22 10:30:00</td>\n",
       "    </tr>\n",
       "    <tr>\n",
       "      <th>250029</th>\n",
       "      <td>2011-12-16 09:40:00</td>\n",
       "      <td>2011-03-10 09:00:00</td>\n",
       "    </tr>\n",
       "    <tr>\n",
       "      <th>250034</th>\n",
       "      <td>2011-12-16 10:35:00</td>\n",
       "      <td>2011-03-11 09:00:00</td>\n",
       "    </tr>\n",
       "    <tr>\n",
       "      <th>250035</th>\n",
       "      <td>2011-12-16 09:35:00</td>\n",
       "      <td>2011-03-10 09:00:00</td>\n",
       "    </tr>\n",
       "    <tr>\n",
       "      <th>250038</th>\n",
       "      <td>2011-12-16 10:00:00</td>\n",
       "      <td>2011-03-10 09:00:00</td>\n",
       "    </tr>\n",
       "    <tr>\n",
       "      <th>250041</th>\n",
       "      <td>2011-12-16 10:35:00</td>\n",
       "      <td>2011-03-11 09:00:00</td>\n",
       "    </tr>\n",
       "    <tr>\n",
       "      <th>250044</th>\n",
       "      <td>2011-12-16 22:15:00</td>\n",
       "      <td>2011-03-10 09:00:00</td>\n",
       "    </tr>\n",
       "    <tr>\n",
       "      <th>250232</th>\n",
       "      <td>2011-12-22 09:00:00</td>\n",
       "      <td>2011-03-01 15:00:00</td>\n",
       "    </tr>\n",
       "    <tr>\n",
       "      <th>250243</th>\n",
       "      <td>2011-12-22 09:00:00</td>\n",
       "      <td>2011-03-17 15:00:00</td>\n",
       "    </tr>\n",
       "    <tr>\n",
       "      <th>250244</th>\n",
       "      <td>2011-12-22 09:00:00</td>\n",
       "      <td>2011-03-17 15:00:00</td>\n",
       "    </tr>\n",
       "    <tr>\n",
       "      <th>250249</th>\n",
       "      <td>2011-12-22 09:00:00</td>\n",
       "      <td>2011-05-12 15:00:00</td>\n",
       "    </tr>\n",
       "    <tr>\n",
       "      <th>250250</th>\n",
       "      <td>2011-12-22 09:00:00</td>\n",
       "      <td>2011-03-02 15:00:00</td>\n",
       "    </tr>\n",
       "    <tr>\n",
       "      <th>250254</th>\n",
       "      <td>2011-12-22 09:00:00</td>\n",
       "      <td>2011-03-17 15:00:00</td>\n",
       "    </tr>\n",
       "    <tr>\n",
       "      <th>250255</th>\n",
       "      <td>2011-12-22 09:00:00</td>\n",
       "      <td>2011-03-17 15:00:00</td>\n",
       "    </tr>\n",
       "    <tr>\n",
       "      <th>250256</th>\n",
       "      <td>2011-12-22 09:00:00</td>\n",
       "      <td>2011-03-03 15:00:00</td>\n",
       "    </tr>\n",
       "  </tbody>\n",
       "</table>\n",
       "<p>77 rows × 2 columns</p>\n",
       "</div>"
      ],
      "text/plain": [
       "        ticket_issued_date        hearing_date\n",
       "81036  2006-12-28 13:15:00 2006-12-20 10:30:00\n",
       "124408 2007-12-27 15:00:00 2007-12-20 10:30:00\n",
       "124416 2007-12-30 13:45:00 2007-12-13 10:30:00\n",
       "137576 2008-03-27 13:10:00 2008-03-18 10:30:00\n",
       "137577 2008-03-27 13:10:00 2008-03-18 10:30:00\n",
       "137650 2008-03-27 13:25:00 2008-03-18 10:30:00\n",
       "137651 2008-03-27 13:25:00 2008-03-18 10:30:00\n",
       "137660 2008-03-27 09:00:00 2008-03-17 09:00:00\n",
       "137661 2008-03-27 09:00:00 2008-03-17 09:00:00\n",
       "137683 2008-03-27 13:35:00 2008-03-18 10:30:00\n",
       "137777 2008-03-27 13:15:00 2008-03-18 10:30:00\n",
       "137778 2008-03-27 13:15:00 2008-03-18 10:30:00\n",
       "137781 2008-03-27 09:00:00 2008-03-17 09:00:00\n",
       "137859 2008-03-27 13:30:00 2008-03-18 10:30:00\n",
       "137860 2008-03-27 13:30:00 2008-03-18 10:30:00\n",
       "137870 2008-03-27 09:00:00 2008-03-17 09:00:00\n",
       "137875 2008-03-27 13:00:00 2008-03-18 10:30:00\n",
       "137876 2008-03-27 13:00:00 2008-03-18 10:30:00\n",
       "157454 2008-08-22 14:00:00 2008-08-14 13:30:00\n",
       "171418 2008-12-12 11:20:00 2008-04-25 13:30:00\n",
       "171669 2008-12-18 10:00:00 2008-04-11 09:00:00\n",
       "171810 2008-12-31 13:30:00 2008-02-25 13:30:00\n",
       "188172 2009-05-28 11:30:00 2009-05-18 10:30:00\n",
       "206405 2009-12-24 11:25:00 2009-12-16 13:30:00\n",
       "210557 2010-02-25 11:20:00 2010-02-16 13:30:00\n",
       "214858 2010-04-29 09:30:00 2010-04-22 09:00:00\n",
       "214890 2010-04-29 10:30:00 2010-04-22 09:00:00\n",
       "214911 2010-04-29 13:00:00 2010-04-22 09:00:00\n",
       "214921 2010-04-29 10:10:00 2010-04-22 09:00:00\n",
       "231768 2010-12-04 09:15:00 2010-04-20 10:30:00\n",
       "...                    ...                 ...\n",
       "232582 2010-12-22 11:00:00 2010-06-14 10:30:00\n",
       "232590 2010-12-22 22:30:00 2010-12-15 13:30:00\n",
       "232598 2010-12-22 11:00:00 2010-01-29 09:00:00\n",
       "232599 2010-12-22 11:00:00 2010-06-14 10:30:00\n",
       "232606 2010-12-23 12:00:00 2010-01-21 09:00:00\n",
       "232607 2010-12-23 12:00:00 2010-01-21 15:00:00\n",
       "236215 2011-02-24 09:50:00 2011-02-21 13:30:00\n",
       "236261 2011-02-24 09:00:00 2011-02-21 13:30:00\n",
       "236291 2011-02-24 09:20:00 2011-02-21 13:30:00\n",
       "237628 2011-03-23 14:40:00 2011-03-18 10:30:00\n",
       "239965 2011-04-30 09:30:00 2011-04-14 09:00:00\n",
       "241699 2011-05-27 10:10:00 2011-05-24 10:30:00\n",
       "245119 2011-08-29 09:40:00 2011-08-23 13:30:00\n",
       "246960 2011-09-24 09:50:00 2011-09-21 09:00:00\n",
       "247235 2011-09-29 15:30:00 2011-09-20 10:30:00\n",
       "247246 2011-09-30 10:00:00 2011-09-22 10:30:00\n",
       "250029 2011-12-16 09:40:00 2011-03-10 09:00:00\n",
       "250034 2011-12-16 10:35:00 2011-03-11 09:00:00\n",
       "250035 2011-12-16 09:35:00 2011-03-10 09:00:00\n",
       "250038 2011-12-16 10:00:00 2011-03-10 09:00:00\n",
       "250041 2011-12-16 10:35:00 2011-03-11 09:00:00\n",
       "250044 2011-12-16 22:15:00 2011-03-10 09:00:00\n",
       "250232 2011-12-22 09:00:00 2011-03-01 15:00:00\n",
       "250243 2011-12-22 09:00:00 2011-03-17 15:00:00\n",
       "250244 2011-12-22 09:00:00 2011-03-17 15:00:00\n",
       "250249 2011-12-22 09:00:00 2011-05-12 15:00:00\n",
       "250250 2011-12-22 09:00:00 2011-03-02 15:00:00\n",
       "250254 2011-12-22 09:00:00 2011-03-17 15:00:00\n",
       "250255 2011-12-22 09:00:00 2011-03-17 15:00:00\n",
       "250256 2011-12-22 09:00:00 2011-03-03 15:00:00\n",
       "\n",
       "[77 rows x 2 columns]"
      ]
     },
     "execution_count": 49,
     "metadata": {},
     "output_type": "execute_result"
    }
   ],
   "source": [
    "train[train['time_gap']<0][['ticket_issued_date','hearing_date']] #deleting these values since hearing date can't be before issue date"
   ]
  },
  {
   "cell_type": "code",
   "execution_count": 50,
   "metadata": {
    "collapsed": false
   },
   "outputs": [],
   "source": [
    "test['time_gap'] = (test['hearing_date']-test['ticket_issued_date']).dt.days+1;"
   ]
  },
  {
   "cell_type": "code",
   "execution_count": 51,
   "metadata": {
    "collapsed": false
   },
   "outputs": [],
   "source": [
    "train = train[train['time_gap']>=0]\n",
    "test = test[test['time_gap']>=0]"
   ]
  },
  {
   "cell_type": "code",
   "execution_count": 52,
   "metadata": {
    "collapsed": false
   },
   "outputs": [
    {
     "data": {
      "text/plain": [
       "ticket_id                        0\n",
       "inspector_name                   0\n",
       "violator_name                   28\n",
       "violation_street_number          0\n",
       "violation_street_name            0\n",
       "mailing_address_str_number    1008\n",
       "mailing_address_str_name         3\n",
       "city                             1\n",
       "state                          327\n",
       "zip_code                         3\n",
       "country                          0\n",
       "ticket_issued_date               0\n",
       "hearing_date                     0\n",
       "violation_code                   0\n",
       "violation_description            0\n",
       "fine_amount                      0\n",
       "admin_fee                        0\n",
       "state_fee                        0\n",
       "late_fee                         0\n",
       "discount_amount                  0\n",
       "clean_up_cost                    0\n",
       "judgment_amount                  0\n",
       "Buildings                        0\n",
       "Police                           0\n",
       "Public Work                      0\n",
       "admission                        0\n",
       "default                          0\n",
       "other                            0\n",
       "determination                    0\n",
       "time_gap                         0\n",
       "dtype: int64"
      ]
     },
     "execution_count": 52,
     "metadata": {},
     "output_type": "execute_result"
    }
   ],
   "source": [
    "np.sum(test.isnull())"
   ]
  },
  {
   "cell_type": "code",
   "execution_count": 53,
   "metadata": {
    "collapsed": false
   },
   "outputs": [
    {
     "data": {
      "text/plain": [
       "ticket_id                        0\n",
       "inspector_name                   0\n",
       "violator_name                   26\n",
       "violation_street_number          0\n",
       "violation_street_name            0\n",
       "mailing_address_str_number    2550\n",
       "mailing_address_str_name         3\n",
       "city                             0\n",
       "state                           84\n",
       "zip_code                         0\n",
       "country                          0\n",
       "ticket_issued_date               0\n",
       "hearing_date                     0\n",
       "violation_code                   0\n",
       "violation_description            0\n",
       "fine_amount                      0\n",
       "admin_fee                        0\n",
       "state_fee                        0\n",
       "late_fee                         0\n",
       "discount_amount                  0\n",
       "clean_up_cost                    0\n",
       "judgment_amount                  0\n",
       "compliance                       0\n",
       "Buildings                        0\n",
       "Police                           0\n",
       "Public Work                      0\n",
       "admission                        0\n",
       "default                          0\n",
       "other                            0\n",
       "determination                    0\n",
       "time_gap                         0\n",
       "dtype: int64"
      ]
     },
     "execution_count": 53,
     "metadata": {},
     "output_type": "execute_result"
    }
   ],
   "source": [
    "np.sum(train.isnull())"
   ]
  },
  {
   "cell_type": "markdown",
   "metadata": {},
   "source": [
    "##### trying to get some meaningful out of  inspector name, since outcome can be based on Inspector judgement. "
   ]
  },
  {
   "cell_type": "code",
   "execution_count": 54,
   "metadata": {
    "collapsed": false
   },
   "outputs": [],
   "source": [
    "train['inspector_name'] = train['inspector_name'].map(lambda x: x.lower())\n",
    "test['inspector_name'] = test['inspector_name'].map(lambda x: x.lower())"
   ]
  },
  {
   "cell_type": "code",
   "execution_count": 55,
   "metadata": {
    "collapsed": true
   },
   "outputs": [],
   "source": [
    "avg_compliance = train.groupby('compliance').count()['ticket_id']/len(train['compliance'])\n",
    "x = pd.DataFrame(train.groupby(['inspector_name','compliance']).count()['ticket_id']/train.groupby(['inspector_name']).count()['ticket_id']).reset_index()\n",
    "x['compliance_by_inspector'] = None\n",
    "for i in [0,1]:\n",
    "    x.loc[(x['compliance']==i)&((x['ticket_id']>=avg_compliance[i]*1.3)|(x['ticket_id']<=avg_compliance[i]*0.7)), 'compliance_by_inspector']=i\n",
    "x = x.join(pd.get_dummies(x['compliance_by_inspector']))\n",
    "for i in [0,1]:\n",
    "    x.rename(columns={i:'compliance_by_inspector_{}'.format(i)}, inplace=True)\n",
    "x.drop(['compliance_by_inspector','compliance','ticket_id'], axis=1, inplace=True)\n",
    "x = x.groupby('inspector_name').sum().reset_index()\n",
    "train=train.merge(x, on='inspector_name', how='inner')"
   ]
  },
  {
   "cell_type": "code",
   "execution_count": 56,
   "metadata": {
    "collapsed": false
   },
   "outputs": [],
   "source": [
    "test=test.merge(x, on='inspector_name', how='left')"
   ]
  },
  {
   "cell_type": "code",
   "execution_count": 57,
   "metadata": {
    "collapsed": false
   },
   "outputs": [],
   "source": [
    "train.drop('inspector_name',axis=1, inplace=True)\n",
    "test.drop('inspector_name',axis=1, inplace=True)"
   ]
  },
  {
   "cell_type": "code",
   "execution_count": 58,
   "metadata": {
    "collapsed": false
   },
   "outputs": [
    {
     "data": {
      "text/plain": [
       "compliance\n",
       "0.0    366.142016\n",
       "1.0    236.433599\n",
       "Name: fine_amount, dtype: float64"
      ]
     },
     "execution_count": 58,
     "metadata": {},
     "output_type": "execute_result"
    }
   ],
   "source": [
    "train.groupby('compliance').mean()['fine_amount']"
   ]
  },
  {
   "cell_type": "code",
   "execution_count": 59,
   "metadata": {
    "collapsed": false
   },
   "outputs": [],
   "source": [
    "train.loc[train['fine_amount'].isnull(), 'fine_amount'] = 0\n",
    "test.loc[test['fine_amount'].isnull(), 'fine_amount'] = 0"
   ]
  },
  {
   "cell_type": "code",
   "execution_count": 60,
   "metadata": {
    "collapsed": true
   },
   "outputs": [],
   "source": [
    "train.drop('country', axis=1, inplace=True)\n",
    "test.drop('country', axis=1, inplace=True)"
   ]
  },
  {
   "cell_type": "code",
   "execution_count": 61,
   "metadata": {
    "collapsed": false
   },
   "outputs": [],
   "source": [
    "train['city'] = train['city'].map(lambda x: x.lower())\n",
    "test['city'] = test['city'].map(lambda x: str(x).lower())"
   ]
  },
  {
   "cell_type": "code",
   "execution_count": 62,
   "metadata": {
    "collapsed": false
   },
   "outputs": [],
   "source": [
    "train['from_detroit'] = train['city'].map(lambda x: 1 if x=='detroit' else 0)\n",
    "test['from_detroit'] = test['city'].map(lambda x: 1 if x=='detroit' else 0)"
   ]
  },
  {
   "cell_type": "code",
   "execution_count": 63,
   "metadata": {
    "collapsed": true
   },
   "outputs": [],
   "source": [
    "#train.drop(['admin_fee', 'state_fee', 'late_fee', 'discount_amount', 'clean_up_cost', 'judgment_amount'], axis=1, inplace=True)\n"
   ]
  },
  {
   "cell_type": "code",
   "execution_count": 64,
   "metadata": {
    "collapsed": false
   },
   "outputs": [],
   "source": [
    "train = train[['ticket_id','fine_amount', 'admin_fee', 'state_fee',\n",
    "       'late_fee', 'discount_amount', 'clean_up_cost', 'judgment_amount',\n",
    "       'compliance','Public Work', 'Buildings', 'Police', 'admission',\n",
    "       'default', 'other', 'determination', 'time_gap',\n",
    "       'compliance_by_inspector_0', 'compliance_by_inspector_1',\n",
    "       'from_detroit']].set_index('ticket_id')"
   ]
  },
  {
   "cell_type": "code",
   "execution_count": 65,
   "metadata": {
    "collapsed": true
   },
   "outputs": [],
   "source": [
    "submission = test[['ticket_id','fine_amount', 'admin_fee', 'state_fee',\n",
    "       'late_fee', 'discount_amount', 'clean_up_cost', 'judgment_amount',\n",
    "       'Public Work', 'Buildings', 'Police', 'admission',\n",
    "       'default', 'other', 'determination', 'time_gap',\n",
    "       'compliance_by_inspector_0', 'compliance_by_inspector_1',\n",
    "       'from_detroit']].set_index('ticket_id')"
   ]
  },
  {
   "cell_type": "code",
   "execution_count": 66,
   "metadata": {
    "collapsed": false
   },
   "outputs": [
    {
     "data": {
      "text/plain": [
       "fine_amount                  0\n",
       "admin_fee                    0\n",
       "state_fee                    0\n",
       "late_fee                     0\n",
       "discount_amount              0\n",
       "clean_up_cost                0\n",
       "judgment_amount              0\n",
       "compliance                   0\n",
       "Public Work                  0\n",
       "Buildings                    0\n",
       "Police                       0\n",
       "admission                    0\n",
       "default                      0\n",
       "other                        0\n",
       "determination                0\n",
       "time_gap                     0\n",
       "compliance_by_inspector_0    0\n",
       "compliance_by_inspector_1    0\n",
       "from_detroit                 0\n",
       "dtype: int64"
      ]
     },
     "execution_count": 66,
     "metadata": {},
     "output_type": "execute_result"
    }
   ],
   "source": [
    "np.sum(train.isnull())"
   ]
  },
  {
   "cell_type": "code",
   "execution_count": 67,
   "metadata": {
    "collapsed": false
   },
   "outputs": [
    {
     "data": {
      "text/plain": [
       "fine_amount                      0\n",
       "admin_fee                        0\n",
       "state_fee                        0\n",
       "late_fee                         0\n",
       "discount_amount                  0\n",
       "clean_up_cost                    0\n",
       "judgment_amount                  0\n",
       "Public Work                      0\n",
       "Buildings                        0\n",
       "Police                           0\n",
       "admission                        0\n",
       "default                          0\n",
       "other                            0\n",
       "determination                    0\n",
       "time_gap                         0\n",
       "compliance_by_inspector_0    16874\n",
       "compliance_by_inspector_1    16874\n",
       "from_detroit                     0\n",
       "dtype: int64"
      ]
     },
     "execution_count": 67,
     "metadata": {},
     "output_type": "execute_result"
    }
   ],
   "source": [
    "np.sum(submission.isnull())"
   ]
  },
  {
   "cell_type": "code",
   "execution_count": 68,
   "metadata": {
    "collapsed": false
   },
   "outputs": [],
   "source": [
    "submission.fillna(0, inplace=True)"
   ]
  },
  {
   "cell_type": "code",
   "execution_count": 69,
   "metadata": {
    "collapsed": false
   },
   "outputs": [
    {
     "data": {
      "text/plain": [
       "fine_amount                  0\n",
       "admin_fee                    0\n",
       "state_fee                    0\n",
       "late_fee                     0\n",
       "discount_amount              0\n",
       "clean_up_cost                0\n",
       "judgment_amount              0\n",
       "Public Work                  0\n",
       "Buildings                    0\n",
       "Police                       0\n",
       "admission                    0\n",
       "default                      0\n",
       "other                        0\n",
       "determination                0\n",
       "time_gap                     0\n",
       "compliance_by_inspector_0    0\n",
       "compliance_by_inspector_1    0\n",
       "from_detroit                 0\n",
       "dtype: int64"
      ]
     },
     "execution_count": 69,
     "metadata": {},
     "output_type": "execute_result"
    }
   ],
   "source": [
    "np.sum(submission.isnull())"
   ]
  },
  {
   "cell_type": "code",
   "execution_count": 89,
   "metadata": {
    "collapsed": true
   },
   "outputs": [],
   "source": [
    "train_sample = train.sample(frac=0.05)"
   ]
  },
  {
   "cell_type": "code",
   "execution_count": 90,
   "metadata": {
    "collapsed": true
   },
   "outputs": [],
   "source": [
    "X_train = train_sample.drop('compliance', axis=1);\n",
    "y_train = train_sample['compliance'];"
   ]
  },
  {
   "cell_type": "code",
   "execution_count": 91,
   "metadata": {
    "collapsed": true
   },
   "outputs": [],
   "source": [
    "def plot_learning_curve(est, X_train, y_train,train_sizes = np.linspace(.1, 1.0, 5)):\n",
    "    import matplotlib.pyplot as plt\n",
    "    from sklearn.learning_curve import learning_curve\n",
    "    train_size, train_score, CV_score = learning_curve(est, X_train, y_train,\n",
    "                                                       train_sizes=train_sizes, scoring = 'roc_auc');\n",
    "    plt.figure();\n",
    "    plt.plot(train_size, np.mean(train_score, axis=1), 'o-', color='b', label='training score');\n",
    "    plt.plot(train_size, np.mean(CV_score, axis=1), 'o-', color='r', label='CV score');\n",
    "    plt.xlabel(\"Training examples\");\n",
    "    plt.ylabel(\"Score\");\n",
    "    plt.fill_between(train_size, np.mean(train_score, axis=1) - np.std(train_score, axis=1),\n",
    "                     np.mean(train_score, axis=1) + np.std(train_score, axis=1), alpha=0.1,\n",
    "                     color=\"b\");\n",
    "    plt.fill_between(train_size, np.mean(CV_score, axis=1) - np.std(CV_score, axis=1),\n",
    "                     np.mean(CV_score, axis=1) + np.std(CV_score, axis=1), alpha=0.1,\n",
    "                     color=\"r\");\n",
    "    plt.title(\"Learning Curve\", fontsize=20);\n",
    "    plt.legend();\n",
    "    plt.show();"
   ]
  },
  {
   "cell_type": "code",
   "execution_count": 92,
   "metadata": {
    "collapsed": false
   },
   "outputs": [],
   "source": [
    "from sklearn.model_selection import GridSearchCV\n",
    "from sklearn.linear_model import LogisticRegression\n",
    "from sklearn.neighbors import KNeighborsClassifier\n",
    "from sklearn.svm import SVC\n",
    "from sklearn.neural_network import MLPClassifier\n",
    "from sklearn.ensemble import AdaBoostClassifier \n",
    "from sklearn.ensemble import RandomForestClassifier"
   ]
  },
  {
   "cell_type": "code",
   "execution_count": 93,
   "metadata": {
    "collapsed": false
   },
   "outputs": [
    {
     "data": {
      "text/plain": [
       "\"param_logit = {'C':[0.01,0.1,1,10,100], 'penalty':['l1','l2']}\\n#param_knn = {'n_neighbors':[1,3,6,10], 'weights':['uniform','distance']}\\nparam_svc = {'C':[0.01,0.1,1,10,100], 'kernel':{'rbf','sigmoid','precomputed'}}\\n#param_ann = {hidden_layer_sizes}\\nparam_rfc = {'n_estimator':[2,3,6,8,10], 'max_features':[10,100,500,1000]}\""
      ]
     },
     "execution_count": 93,
     "metadata": {},
     "output_type": "execute_result"
    }
   ],
   "source": [
    "'''param_logit = {'C':[0.01,0.1,1,10,100], 'penalty':['l1','l2']}\n",
    "#param_knn = {'n_neighbors':[1,3,6,10], 'weights':['uniform','distance']}\n",
    "param_svc = {'C':[0.01,0.1,1,10,100], 'kernel':{'rbf','sigmoid','precomputed'}}\n",
    "#param_ann = {hidden_layer_sizes}\n",
    "param_rfc = {'n_estimator':[2,3,6,8,10], 'max_features':[10,100,500,1000]}'''"
   ]
  },
  {
   "cell_type": "code",
   "execution_count": 94,
   "metadata": {
    "collapsed": false
   },
   "outputs": [],
   "source": [
    "model_list = [LogisticRegression(), KNeighborsClassifier(), SVC(), RandomForestClassifier(),AdaBoostClassifier()];"
   ]
  },
  {
   "cell_type": "code",
   "execution_count": 95,
   "metadata": {
    "collapsed": false
   },
   "outputs": [
    {
     "name": "stdout",
     "output_type": "stream",
     "text": [
      "learning curve for\tLogisticRegression(C=1.0, class_weight=None, dual=False, fit_intercept=True,\n",
      "          intercept_scaling=1, max_iter=100, multi_class='ovr', n_jobs=1,\n",
      "          penalty='l2', random_state=None, solver='liblinear', tol=0.0001,\n",
      "          verbose=0, warm_start=False)\n"
     ]
    },
    {
     "data": {
      "image/png": "[encoded data removed]",
      "text/plain": [
       "<matplotlib.figure.Figure at 0x7fc51ef5b128>"
      ]
     },
     "metadata": {},
     "output_type": "display_data"
    },
    {
     "name": "stdout",
     "output_type": "stream",
     "text": [
      "learning curve for\tKNeighborsClassifier(algorithm='auto', leaf_size=30, metric='minkowski',\n",
      "           metric_params=None, n_jobs=1, n_neighbors=5, p=2,\n",
      "           weights='uniform')\n"
     ]
    },
    {
     "data": {
      "image/png": "[encoded data removed]",
      "text/plain": [
       "<matplotlib.figure.Figure at 0x7fc52b56c588>"
      ]
     },
     "metadata": {},
     "output_type": "display_data"
    },
    {
     "name": "stdout",
     "output_type": "stream",
     "text": [
      "learning curve for\tSVC(C=1.0, cache_size=200, class_weight=None, coef0=0.0,\n",
      "  decision_function_shape=None, degree=3, gamma='auto', kernel='rbf',\n",
      "  max_iter=-1, probability=False, random_state=None, shrinking=True,\n",
      "  tol=0.001, verbose=False)\n"
     ]
    },
    {
     "data": {
      "image/png": "[encoded data removed]",
      "text/plain": [
       "<matplotlib.figure.Figure at 0x7fc51ef560f0>"
      ]
     },
     "metadata": {},
     "output_type": "display_data"
    },
    {
     "name": "stdout",
     "output_type": "stream",
     "text": [
      "learning curve for\tRandomForestClassifier(bootstrap=True, class_weight=None, criterion='gini',\n",
      "            max_depth=None, max_features='auto', max_leaf_nodes=None,\n",
      "            min_impurity_split=1e-07, min_samples_leaf=1,\n",
      "            min_samples_split=2, min_weight_fraction_leaf=0.0,\n",
      "            n_estimators=10, n_jobs=1, oob_score=False, random_state=None,\n",
      "            verbose=0, warm_start=False)\n"
     ]
    },
    {
     "data": {
      "image/png": "[encoded data removed]",
      "text/plain": [
       "<matplotlib.figure.Figure at 0x7fc51ef1e9b0>"
      ]
     },
     "metadata": {},
     "output_type": "display_data"
    },
    {
     "name": "stdout",
     "output_type": "stream",
     "text": [
      "learning curve for\tAdaBoostClassifier(algorithm='SAMME.R', base_estimator=None,\n",
      "          learning_rate=1.0, n_estimators=50, random_state=None)\n"
     ]
    },
    {
     "data": {
      "image/png": "[encoded data removed]",
      "text/plain": [
       "<matplotlib.figure.Figure at 0x7fc52b56f3c8>"
      ]
     },
     "metadata": {},
     "output_type": "display_data"
    }
   ],
   "source": [
    "for model in model_list:\n",
    "    #gscv = GridSearchCV(model, param, scoring='roc_auc');\n",
    "    print(\"learning curve for\\t{}\".format(model))\n",
    "    plot_learning_curve(model, X_train, y_train)"
   ]
  },
  {
   "cell_type": "markdown",
   "metadata": {},
   "source": [
    "## Logistic Regression"
   ]
  },
  {
   "cell_type": "code",
   "execution_count": 104,
   "metadata": {
    "collapsed": false
   },
   "outputs": [],
   "source": [
    "from sklearn.model_selection import train_test_split\n",
    "X_train, X_test, y_train, y_test = train_test_split(train.drop('compliance', axis=1), train['compliance'])"
   ]
  },
  {
   "cell_type": "code",
   "execution_count": 108,
   "metadata": {
    "collapsed": false
   },
   "outputs": [
    {
     "name": "stderr",
     "output_type": "stream",
     "text": [
      "/opt/conda/lib/python3.5/site-packages/sklearn/linear_model/sag.py:286: ConvergenceWarning: The max_iter was reached which means the coef_ did not converge\n",
      "  \"the coef_ did not converge\", ConvergenceWarning)\n",
      "/opt/conda/lib/python3.5/site-packages/sklearn/linear_model/sag.py:286: ConvergenceWarning: The max_iter was reached which means the coef_ did not converge\n",
      "  \"the coef_ did not converge\", ConvergenceWarning)\n",
      "/opt/conda/lib/python3.5/site-packages/sklearn/linear_model/sag.py:286: ConvergenceWarning: The max_iter was reached which means the coef_ did not converge\n",
      "  \"the coef_ did not converge\", ConvergenceWarning)\n",
      "/opt/conda/lib/python3.5/site-packages/sklearn/linear_model/sag.py:286: ConvergenceWarning: The max_iter was reached which means the coef_ did not converge\n",
      "  \"the coef_ did not converge\", ConvergenceWarning)\n",
      "/opt/conda/lib/python3.5/site-packages/sklearn/linear_model/sag.py:286: ConvergenceWarning: The max_iter was reached which means the coef_ did not converge\n",
      "  \"the coef_ did not converge\", ConvergenceWarning)\n",
      "/opt/conda/lib/python3.5/site-packages/sklearn/linear_model/sag.py:286: ConvergenceWarning: The max_iter was reached which means the coef_ did not converge\n",
      "  \"the coef_ did not converge\", ConvergenceWarning)\n",
      "/opt/conda/lib/python3.5/site-packages/sklearn/linear_model/sag.py:286: ConvergenceWarning: The max_iter was reached which means the coef_ did not converge\n",
      "  \"the coef_ did not converge\", ConvergenceWarning)\n",
      "/opt/conda/lib/python3.5/site-packages/sklearn/linear_model/sag.py:286: ConvergenceWarning: The max_iter was reached which means the coef_ did not converge\n",
      "  \"the coef_ did not converge\", ConvergenceWarning)\n",
      "/opt/conda/lib/python3.5/site-packages/sklearn/linear_model/sag.py:286: ConvergenceWarning: The max_iter was reached which means the coef_ did not converge\n",
      "  \"the coef_ did not converge\", ConvergenceWarning)\n",
      "/opt/conda/lib/python3.5/site-packages/sklearn/linear_model/sag.py:286: ConvergenceWarning: The max_iter was reached which means the coef_ did not converge\n",
      "  \"the coef_ did not converge\", ConvergenceWarning)\n",
      "/opt/conda/lib/python3.5/site-packages/sklearn/linear_model/sag.py:286: ConvergenceWarning: The max_iter was reached which means the coef_ did not converge\n",
      "  \"the coef_ did not converge\", ConvergenceWarning)\n",
      "/opt/conda/lib/python3.5/site-packages/sklearn/linear_model/sag.py:286: ConvergenceWarning: The max_iter was reached which means the coef_ did not converge\n",
      "  \"the coef_ did not converge\", ConvergenceWarning)\n",
      "/opt/conda/lib/python3.5/site-packages/sklearn/linear_model/sag.py:286: ConvergenceWarning: The max_iter was reached which means the coef_ did not converge\n",
      "  \"the coef_ did not converge\", ConvergenceWarning)\n",
      "/opt/conda/lib/python3.5/site-packages/sklearn/linear_model/sag.py:286: ConvergenceWarning: The max_iter was reached which means the coef_ did not converge\n",
      "  \"the coef_ did not converge\", ConvergenceWarning)\n",
      "/opt/conda/lib/python3.5/site-packages/sklearn/linear_model/sag.py:286: ConvergenceWarning: The max_iter was reached which means the coef_ did not converge\n",
      "  \"the coef_ did not converge\", ConvergenceWarning)\n",
      "/opt/conda/lib/python3.5/site-packages/sklearn/linear_model/sag.py:286: ConvergenceWarning: The max_iter was reached which means the coef_ did not converge\n",
      "  \"the coef_ did not converge\", ConvergenceWarning)\n",
      "/opt/conda/lib/python3.5/site-packages/sklearn/linear_model/sag.py:286: ConvergenceWarning: The max_iter was reached which means the coef_ did not converge\n",
      "  \"the coef_ did not converge\", ConvergenceWarning)\n",
      "/opt/conda/lib/python3.5/site-packages/sklearn/linear_model/sag.py:286: ConvergenceWarning: The max_iter was reached which means the coef_ did not converge\n",
      "  \"the coef_ did not converge\", ConvergenceWarning)\n",
      "/opt/conda/lib/python3.5/site-packages/sklearn/linear_model/sag.py:286: ConvergenceWarning: The max_iter was reached which means the coef_ did not converge\n",
      "  \"the coef_ did not converge\", ConvergenceWarning)\n",
      "/opt/conda/lib/python3.5/site-packages/sklearn/linear_model/sag.py:286: ConvergenceWarning: The max_iter was reached which means the coef_ did not converge\n",
      "  \"the coef_ did not converge\", ConvergenceWarning)\n",
      "/opt/conda/lib/python3.5/site-packages/sklearn/linear_model/sag.py:286: ConvergenceWarning: The max_iter was reached which means the coef_ did not converge\n",
      "  \"the coef_ did not converge\", ConvergenceWarning)\n",
      "/opt/conda/lib/python3.5/site-packages/sklearn/linear_model/sag.py:286: ConvergenceWarning: The max_iter was reached which means the coef_ did not converge\n",
      "  \"the coef_ did not converge\", ConvergenceWarning)\n",
      "/opt/conda/lib/python3.5/site-packages/sklearn/linear_model/sag.py:286: ConvergenceWarning: The max_iter was reached which means the coef_ did not converge\n",
      "  \"the coef_ did not converge\", ConvergenceWarning)\n",
      "/opt/conda/lib/python3.5/site-packages/sklearn/linear_model/sag.py:286: ConvergenceWarning: The max_iter was reached which means the coef_ did not converge\n",
      "  \"the coef_ did not converge\", ConvergenceWarning)\n",
      "/opt/conda/lib/python3.5/site-packages/sklearn/linear_model/sag.py:286: ConvergenceWarning: The max_iter was reached which means the coef_ did not converge\n",
      "  \"the coef_ did not converge\", ConvergenceWarning)\n",
      "/opt/conda/lib/python3.5/site-packages/sklearn/linear_model/sag.py:286: ConvergenceWarning: The max_iter was reached which means the coef_ did not converge\n",
      "  \"the coef_ did not converge\", ConvergenceWarning)\n",
      "/opt/conda/lib/python3.5/site-packages/sklearn/linear_model/sag.py:286: ConvergenceWarning: The max_iter was reached which means the coef_ did not converge\n",
      "  \"the coef_ did not converge\", ConvergenceWarning)\n",
      "/opt/conda/lib/python3.5/site-packages/sklearn/linear_model/sag.py:286: ConvergenceWarning: The max_iter was reached which means the coef_ did not converge\n",
      "  \"the coef_ did not converge\", ConvergenceWarning)\n",
      "/opt/conda/lib/python3.5/site-packages/sklearn/linear_model/sag.py:286: ConvergenceWarning: The max_iter was reached which means the coef_ did not converge\n",
      "  \"the coef_ did not converge\", ConvergenceWarning)\n",
      "/opt/conda/lib/python3.5/site-packages/sklearn/linear_model/sag.py:286: ConvergenceWarning: The max_iter was reached which means the coef_ did not converge\n",
      "  \"the coef_ did not converge\", ConvergenceWarning)\n",
      "/opt/conda/lib/python3.5/site-packages/sklearn/linear_model/sag.py:286: ConvergenceWarning: The max_iter was reached which means the coef_ did not converge\n",
      "  \"the coef_ did not converge\", ConvergenceWarning)\n",
      "/opt/conda/lib/python3.5/site-packages/sklearn/linear_model/sag.py:286: ConvergenceWarning: The max_iter was reached which means the coef_ did not converge\n",
      "  \"the coef_ did not converge\", ConvergenceWarning)\n",
      "/opt/conda/lib/python3.5/site-packages/sklearn/linear_model/sag.py:286: ConvergenceWarning: The max_iter was reached which means the coef_ did not converge\n",
      "  \"the coef_ did not converge\", ConvergenceWarning)\n",
      "/opt/conda/lib/python3.5/site-packages/sklearn/linear_model/sag.py:286: ConvergenceWarning: The max_iter was reached which means the coef_ did not converge\n",
      "  \"the coef_ did not converge\", ConvergenceWarning)\n",
      "/opt/conda/lib/python3.5/site-packages/sklearn/linear_model/sag.py:286: ConvergenceWarning: The max_iter was reached which means the coef_ did not converge\n",
      "  \"the coef_ did not converge\", ConvergenceWarning)\n",
      "/opt/conda/lib/python3.5/site-packages/sklearn/linear_model/sag.py:286: ConvergenceWarning: The max_iter was reached which means the coef_ did not converge\n",
      "  \"the coef_ did not converge\", ConvergenceWarning)\n",
      "/opt/conda/lib/python3.5/site-packages/scipy/optimize/linesearch.py:285: LineSearchWarning: The line search algorithm did not converge\n",
      "  warn('The line search algorithm did not converge', LineSearchWarning)\n",
      "/opt/conda/lib/python3.5/site-packages/sklearn/utils/optimize.py:195: UserWarning: Line Search failed\n",
      "  warnings.warn('Line Search failed')\n",
      "/opt/conda/lib/python3.5/site-packages/sklearn/linear_model/sag.py:286: ConvergenceWarning: The max_iter was reached which means the coef_ did not converge\n",
      "  \"the coef_ did not converge\", ConvergenceWarning)\n",
      "/opt/conda/lib/python3.5/site-packages/sklearn/linear_model/sag.py:286: ConvergenceWarning: The max_iter was reached which means the coef_ did not converge\n",
      "  \"the coef_ did not converge\", ConvergenceWarning)\n",
      "/opt/conda/lib/python3.5/site-packages/sklearn/linear_model/sag.py:286: ConvergenceWarning: The max_iter was reached which means the coef_ did not converge\n",
      "  \"the coef_ did not converge\", ConvergenceWarning)\n",
      "/opt/conda/lib/python3.5/site-packages/sklearn/linear_model/sag.py:286: ConvergenceWarning: The max_iter was reached which means the coef_ did not converge\n",
      "  \"the coef_ did not converge\", ConvergenceWarning)\n",
      "/opt/conda/lib/python3.5/site-packages/sklearn/linear_model/sag.py:286: ConvergenceWarning: The max_iter was reached which means the coef_ did not converge\n",
      "  \"the coef_ did not converge\", ConvergenceWarning)\n",
      "/opt/conda/lib/python3.5/site-packages/sklearn/linear_model/sag.py:286: ConvergenceWarning: The max_iter was reached which means the coef_ did not converge\n",
      "  \"the coef_ did not converge\", ConvergenceWarning)\n",
      "/opt/conda/lib/python3.5/site-packages/sklearn/linear_model/sag.py:286: ConvergenceWarning: The max_iter was reached which means the coef_ did not converge\n",
      "  \"the coef_ did not converge\", ConvergenceWarning)\n",
      "/opt/conda/lib/python3.5/site-packages/sklearn/linear_model/sag.py:286: ConvergenceWarning: The max_iter was reached which means the coef_ did not converge\n",
      "  \"the coef_ did not converge\", ConvergenceWarning)\n",
      "/opt/conda/lib/python3.5/site-packages/sklearn/linear_model/sag.py:286: ConvergenceWarning: The max_iter was reached which means the coef_ did not converge\n",
      "  \"the coef_ did not converge\", ConvergenceWarning)\n"
     ]
    },
    {
     "data": {
      "text/plain": [
       "{'C': 0.01, 'n_jobs': -1, 'solver': 'newton-cg', 'tol': 0.0001}"
      ]
     },
     "execution_count": 108,
     "metadata": {},
     "output_type": "execute_result"
    }
   ],
   "source": [
    "param_logit = {'C':[0.01,0.1,1,10,100],  \n",
    "               'solver':['newton-cg', 'lbfgs', 'liblinear', 'sag'],\n",
    "               'tol':[1e-2,1e-4,1e-6,1e-8],\n",
    "               'n_jobs':[-1]}\n",
    "gscv = GridSearchCV(LogisticRegression(), param_logit, scoring='roc_auc')\n",
    "gscv.fit(train_sample.drop('compliance', axis=1),train_sample['compliance'])\n",
    "gscv.best_params_"
   ]
  },
  {
   "cell_type": "code",
   "execution_count": 110,
   "metadata": {
    "collapsed": false
   },
   "outputs": [
    {
     "data": {
      "text/plain": [
       "LogisticRegression(C=0.01, class_weight=None, dual=False, fit_intercept=True,\n",
       "          intercept_scaling=1, max_iter=100, multi_class='ovr', n_jobs=-1,\n",
       "          penalty='l2', random_state=None, solver='newton-cg', tol=0.0001,\n",
       "          verbose=0, warm_start=False)"
      ]
     },
     "execution_count": 110,
     "metadata": {},
     "output_type": "execute_result"
    }
   ],
   "source": [
    "model = LogisticRegression(C= 0.01, n_jobs= -1, solver= 'newton-cg', tol= 0.0001)\n",
    "model.fit(X_train, y_train)"
   ]
  },
  {
   "cell_type": "code",
   "execution_count": 128,
   "metadata": {
    "collapsed": true
   },
   "outputs": [],
   "source": [
    "from sklearn.metrics import auc, roc_curve"
   ]
  },
  {
   "cell_type": "code",
   "execution_count": 123,
   "metadata": {
    "collapsed": false
   },
   "outputs": [],
   "source": [
    "y_true = model.predict_proba(X_test)[:,1]"
   ]
  },
  {
   "cell_type": "code",
   "execution_count": 125,
   "metadata": {
    "collapsed": false
   },
   "outputs": [],
   "source": [
    "fpr, tpr, thresholds = roc_curve(y_test, y_true)"
   ]
  },
  {
   "cell_type": "code",
   "execution_count": 129,
   "metadata": {
    "collapsed": false
   },
   "outputs": [],
   "source": [
    "auc = auc(fpr, tpr)"
   ]
  },
  {
   "cell_type": "code",
   "execution_count": 130,
   "metadata": {
    "collapsed": false
   },
   "outputs": [
    {
     "data": {
      "text/plain": [
       "<matplotlib.text.Text at 0x7fc51eb97ac8>"
      ]
     },
     "execution_count": 130,
     "metadata": {},
     "output_type": "execute_result"
    },
    {
     "data": {
      "image/png": "[encoded data removed]",
      "text/plain": [
       "<matplotlib.figure.Figure at 0x7fc51ef30be0>"
      ]
     },
     "metadata": {},
     "output_type": "display_data"
    }
   ],
   "source": [
    "plt.plot(fpr, tpr, 'g-', lw=2)\n",
    "plt.plot([0,1],[0,1],'b--',lw=3)\n",
    "plt.xlabel('False Positive Rate')\n",
    "plt.ylabel('True Positive Rate')\n",
    "plt.title('ROC Curve')\n",
    "plt.gca().text(0.6, 0.05, \"Area under the curve {}\".format(np.round(auc, 2)))"
   ]
  },
  {
   "cell_type": "code",
   "execution_count": 131,
   "metadata": {
    "collapsed": false
   },
   "outputs": [
    {
     "data": {
      "text/plain": [
       "(58706, 18)"
      ]
     },
     "execution_count": 131,
     "metadata": {},
     "output_type": "execute_result"
    }
   ],
   "source": [
    "submission.shape"
   ]
  },
  {
   "cell_type": "code",
   "execution_count": 133,
   "metadata": {
    "collapsed": false
   },
   "outputs": [
    {
     "name": "stderr",
     "output_type": "stream",
     "text": [
      "/opt/conda/lib/python3.5/site-packages/sklearn/linear_model/base.py:352: RuntimeWarning: overflow encountered in exp\n",
      "  np.exp(prob, prob)\n"
     ]
    }
   ],
   "source": [
    "pro = model.predict_proba(submission)[:,1]"
   ]
  },
  {
   "cell_type": "code",
   "execution_count": 137,
   "metadata": {
    "collapsed": false
   },
   "outputs": [],
   "source": [
    "sub_df = pd.DataFrame(pro, submission.index)"
   ]
  },
  {
   "cell_type": "code",
   "execution_count": 138,
   "metadata": {
    "collapsed": false
   },
   "outputs": [],
   "source": [
    "\n",
    "\n",
    "def blight_model():\n",
    "    \n",
    "    # Your code here\n",
    "    \n",
    "    return sub_df"
   ]
  },
  {
   "cell_type": "code",
   "execution_count": null,
   "metadata": {
    "collapsed": true
   },
   "outputs": [],
   "source": []
  }
 ],
 "metadata": {
  "coursera": {
   "course_slug": "python-machine-learning",
   "graded_item_id": "nNS8l",
   "launcher_item_id": "yWWk7",
   "part_id": "w8BSS"
  },
  "kernelspec": {
   "display_name": "Python 3",
   "language": "python",
   "name": "python3"
  },
  "language_info": {
   "codemirror_mode": {
    "name": "ipython",
    "version": 3
   },
   "file_extension": ".py",
   "mimetype": "text/x-python",
   "name": "python",
   "nbconvert_exporter": "python",
   "pygments_lexer": "ipython3",
   "version": "3.5.2"
  }
 },
 "nbformat": 4,
 "nbformat_minor": 2
}
